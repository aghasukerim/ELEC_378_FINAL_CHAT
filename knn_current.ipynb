{
  "nbformat": 4,
  "nbformat_minor": 0,
  "metadata": {
    "colab": {
      "provenance": []
    },
    "kernelspec": {
      "name": "python3",
      "display_name": "Python 3"
    },
    "language_info": {
      "name": "python"
    }
  },
  "cells": [
    {
      "cell_type": "code",
      "source": [
        "import librosa\n",
        "import librosa.display\n",
        "import IPython.display as idp\n",
        "import matplotlib.pyplot as plt\n",
        "import numpy as np\n",
        "import csv\n",
        "from sklearn.decomposition import PCA\n",
        "from sklearn import preprocessing\n",
        "from sklearn.pipeline import make_pipeline\n",
        "from sklearn.preprocessing import StandardScaler\n",
        "from sklearn.svm import SVC"
      ],
      "metadata": {
        "id": "wyOHL_z8kzAX"
      },
      "execution_count": 1,
      "outputs": []
    },
    {
      "cell_type": "code",
      "execution_count": 10,
      "metadata": {
        "id": "ak8qXj9lt2FN"
      },
      "outputs": [],
      "source": [
        "def mfcc_feature_vector(file_name):\n",
        "  signal, sr = librosa.load(file_name)\n",
        "  mfccs = librosa.feature.mfcc(y=signal, n_mfcc=13, sr=sr)\n",
        "  ###We are going to try adding the deltas for more info\n",
        "  delta_mfccs = librosa.feature.delta(mfccs)\n",
        "  delta2_mfccs = librosa.feature.delta(mfccs, order=2)\n",
        "  chroma = librosa.feature.chroma_stft(y=signal, sr=sr)\n",
        "  mfccs_features = np.concatenate((mfccs, delta_mfccs, delta2_mfccs, chroma))\n",
        "  mfcc_feature_vector = mfccs.flatten()\n",
        "  return mfcc_feature_vector\n",
        "\n",
        "#find the min to make consistent matrix\n",
        "X_len_list = []\n",
        "for i in range(800):\n",
        "  num_str = '{:03d}'.format(i)\n",
        "  file_name = '/content/drive/MyDrive/train/train' + num_str + '.wav'\n",
        "  X_len_list.append(len(mfcc_feature_vector(file_name)))\n",
        "\n",
        "for i in range(200):\n",
        "  num_str = '{:03d}'.format(i)\n",
        "  file_name = '/content/drive/MyDrive/test/test' + num_str + '.wav'\n",
        "  X_len_list.append(len(mfcc_feature_vector(file_name)))\n",
        "\n",
        "#/content/drive/MyDrive/test/test000.wav\n",
        "min_len = min(X_len_list)\n",
        "X = []\n",
        "X_test = []\n",
        "\n",
        "for i in range(800):\n",
        "  num_str = '{:03d}'.format(i)\n",
        "  file_name = '/content/drive/MyDrive/train/train' + num_str + '.wav'\n",
        "  X.append(mfcc_feature_vector(file_name)[:min_len])\n",
        "\n",
        "for i in range(200):\n",
        "  num_str = '{:03d}'.format(i)\n",
        "  file_name = '/content/drive/MyDrive/test/test' + num_str + '.wav'\n",
        "  X_test.append(mfcc_feature_vector(file_name)[:min_len])\n",
        "\n"
      ]
    },
    {
      "cell_type": "code",
      "source": [
        "y = []\n",
        "\n",
        "\n",
        "\n",
        "# Open the CSV file\n",
        "with open('/content/drive/MyDrive/train.csv', 'r') as file:\n",
        "    # Create a CSV reader object\n",
        "    reader = csv.reader(file)\n",
        "    # Iterate over each row in the CSV file\n",
        "    for row in reader:\n",
        "        # Process each row\n",
        "        #print(row)  # Example: Print each row\n",
        "        y.append(row[1])\n",
        "    y.pop(0) #get rid of title\n",
        "\n",
        "num_test_points = 100\n",
        "\n",
        "X_train = X[num_test_points:]\n",
        "y_train = y[num_test_points:]\n",
        "\n",
        "X_test = X[:num_test_points]\n",
        "y_test = y[:num_test_points]"
      ],
      "metadata": {
        "id": "vZaz_PefVCiD"
      },
      "execution_count": 11,
      "outputs": []
    },
    {
      "cell_type": "code",
      "source": [
        "from sklearn.neighbors import KNeighborsClassifier\n",
        "from sklearn.metrics import accuracy_score\n",
        "\n",
        "# Assuming X contains the features and y contains the labels\n",
        "\n",
        "# Training data\n",
        "#X_train = ...  # 100-800th points\n",
        "#y_train = ...  # Labels corresponding to 100-800th points\n",
        "\n",
        "# Test data\n",
        "#X_test = ...   # 0-100th points\n",
        "#y_test = ...   # Labels corresponding to 0-100th points\n",
        "for i in range(1,7):\n",
        "# Initialize KNN classifier\n",
        "  knn = KNeighborsClassifier(n_neighbors=i, weights='distance', algorithm='auto', leaf_size=30, p=1, metric='minkowski')\n",
        "\n",
        "# Train the classifier\n",
        "  knn.fit(X_train, y_train)\n",
        "\n",
        "# Predict on the test data\n",
        "  y_pred = knn.predict(X_test)\n",
        "\n",
        "# Calculate accuracy\n",
        "  accuracy = accuracy_score(y_test, y_pred)\n",
        "  print(\"Accuracy:\", accuracy,\" with \", i, \"nearest neighbors\")\n",
        "#print(\"Accuracy: %\", accuracy*100)"
      ],
      "metadata": {
        "id": "gyivt6peA3Hd",
        "colab": {
          "base_uri": "https://localhost:8080/"
        },
        "outputId": "ffe2fc3c-3f5a-4475-fe20-f160198e110a"
      },
      "execution_count": 12,
      "outputs": [
        {
          "output_type": "stream",
          "name": "stdout",
          "text": [
            "Accuracy: 0.43  with  1 nearest neighbors\n",
            "Accuracy: 0.43  with  2 nearest neighbors\n",
            "Accuracy: 0.43  with  3 nearest neighbors\n",
            "Accuracy: 0.44  with  4 nearest neighbors\n",
            "Accuracy: 0.39  with  5 nearest neighbors\n",
            "Accuracy: 0.4  with  6 nearest neighbors\n"
          ]
        }
      ]
    },
    {
      "cell_type": "code",
      "source": [],
      "metadata": {
        "id": "RCL8XcIl48Uo"
      },
      "execution_count": null,
      "outputs": []
    },
    {
      "cell_type": "code",
      "source": [
        "\"\"\"\n",
        "data = [['ID', 'Genre']]\n",
        "for i in range(200):\n",
        "  num_str = '{:03d}'.format(i)\n",
        "  data.append(['test' + num_str + '.wav', knn.predict([X_test[i]])[0]])\n",
        "  file_name = 'KNN_classifier.csv'\n",
        "\n",
        "with open(file_name, mode='w', newline='') as file:\n",
        "    writer = csv.writer(file)\n",
        "    writer.writerows(data)\n",
        "\"\"\""
      ],
      "metadata": {
        "id": "S5tguw3iMM3_"
      },
      "execution_count": null,
      "outputs": []
    }
  ]
}