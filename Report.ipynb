{
  "nbformat": 4,
  "nbformat_minor": 0,
  "metadata": {
    "colab": {
      "provenance": [],
      "collapsed_sections": [
        "6XZ8zx_x_rzP",
        "2Uq-Z-m9uu8C",
        "jteEXGQd4qwx",
        "KuiUcXgR7_Lj",
        "HCuwJTJD9txm",
        "8RG4vnCpWKea"
      ]
    },
    "kernelspec": {
      "name": "python3",
      "display_name": "Python 3"
    },
    "language_info": {
      "name": "python"
    }
  },
  "cells": [
    {
      "cell_type": "code",
      "execution_count": null,
      "metadata": {
        "id": "jDls0E_kuYzL"
      },
      "outputs": [],
      "source": [
        "import librosa\n",
        "import numpy as np"
      ]
    },
    {
      "cell_type": "markdown",
      "source": [
        "### Final attempt at data preproccesing"
      ],
      "metadata": {
        "id": "6XZ8zx_x_rzP"
      }
    },
    {
      "cell_type": "code",
      "source": [
        "import librosa\n",
        "import numpy as np\n",
        "\n",
        "def extract_features(audio_file):\n",
        "    # Load the audio file\n",
        "    y, sr = librosa.load(audio_file, sr=None)\n",
        "\n",
        "    # Extract features\n",
        "    chromagram = librosa.feature.chroma_stft(y=y, sr=sr)\n",
        "    root_mean_sq = librosa.feature.rms(y=y)\n",
        "    spectral_centroid = librosa.feature.spectral_centroid(y=y, sr=sr)\n",
        "    spectral_bandwidth = librosa.feature.spectral_bandwidth(y=y, sr=sr)\n",
        "    rolloff = librosa.feature.spectral_rolloff(y=y, sr=sr)\n",
        "    zero_crossing_rate = librosa.feature.zero_crossing_rate(y)\n",
        "    harmony, percussion = librosa.effects.hpss(y)\n",
        "    tempo, _ = librosa.beat.beat_track(y=y, sr=sr)\n",
        "    mfccs = librosa.feature.mfcc(y=y, sr=sr)\n",
        "\n",
        "    print(np.shape(mfccs))\n",
        "\n",
        "\n",
        "    feature_vector = [np.mean(chromagram), np.var(chromagram), np.mean(root_mean_sq), np.var(root_mean_sq),\n",
        "                      np.mean(spectral_centroid), np.var(spectral_centroid), np.mean(spectral_bandwidth),np.var(spectral_bandwidth),\n",
        "                      np.mean(rolloff), np.var(rolloff), np.mean(zero_crossing_rate), np.var(zero_crossing_rate),\n",
        "                      np.mean(harmony), np.var(harmony), np.mean(percussion), np.var(percussion), tempo]\n",
        "\n",
        "    # Add mean and variance of MFCCs\n",
        "    for i in range(0, 20):\n",
        "\n",
        "        feature_vector.append(np.mean(mfccs[i]))\n",
        "        feature_vector.append(np.var(mfccs[i]))\n",
        "\n",
        "    return feature_vector\n"
      ],
      "metadata": {
        "id": "QQV3Clp6_uyQ"
      },
      "execution_count": null,
      "outputs": []
    },
    {
      "cell_type": "code",
      "source": [
        "print(extract_features(\"train000.wav\"))"
      ],
      "metadata": {
        "colab": {
          "base_uri": "https://localhost:8080/"
        },
        "id": "u7nIyjEQsVZC",
        "outputId": "64b146d3-f231-45aa-e84c-e60d66858491"
      },
      "execution_count": null,
      "outputs": [
        {
          "output_type": "stream",
          "name": "stdout",
          "text": [
            "(20, 1293)\n",
            "[0.49693632, 0.074088484, 0.21548757, 0.0045074425, 2327.3042883656067, 326509.7898285401, 2516.6762247035786, 78388.97811704749, 4929.812855731583, 1209579.618561012, 0.09544520072022429, 0.0026555356772195323, -3.3191096e-05, 0.019695848, 0.00022804442, 0.014144431, 107.666015625, -30.302328, 2302.5728, 88.46916, 507.815, -6.565683, 283.72113, 32.79242, 96.51369, 8.502236, 61.604366, 8.387787, 58.229748, 2.0520325, 77.62554, 6.863294, 57.416336, 3.5781379, 48.508255, 2.7206445, 45.872013, 1.2915944, 40.098003, 3.2918952, 36.68938, 1.5701153, 26.20597, 2.377863, 26.768229, 2.5288734, 26.752012, 1.1006651, 22.222546, -1.5776114, 23.956354, -0.2624535, 30.195358, 0.1183315, 25.60868, 0.42553532, 22.239328]\n"
          ]
        }
      ]
    },
    {
      "cell_type": "markdown",
      "source": [
        "###Audio processing 1. generate more audio 2. Perform PCA"
      ],
      "metadata": {
        "id": "2Uq-Z-m9uu8C"
      }
    },
    {
      "cell_type": "code",
      "source": [
        "filenames_training = []\n",
        "for i in range(10):\n",
        "  filenames_training.append('train00{}.wav'.format(i))\n",
        "for i in range(10, 100):\n",
        "  filenames_training.append('train0{}.wav'.format(i))\n",
        "for i in range(100, 800):\n",
        "  filenames_training.append('train{}.wav'.format(i))"
      ],
      "metadata": {
        "id": "oBxlMM0Ku3rJ"
      },
      "execution_count": null,
      "outputs": []
    },
    {
      "cell_type": "code",
      "source": [
        "filenames_testing = []\n",
        "for i in range(10):\n",
        "  filenames_testing.append('test00{}.wav'.format(i))\n",
        "for i in range(10, 100):\n",
        "  filenames_testing.append('test0{}.wav'.format(i))\n",
        "for i in range(100, 200):\n",
        "  filenames_testing.append('test{}.wav'.format(i))"
      ],
      "metadata": {
        "id": "g1hR1V4FvLKz"
      },
      "execution_count": null,
      "outputs": []
    },
    {
      "cell_type": "code",
      "source": [
        "import math\n",
        "\n",
        "num_mfcc=13\n",
        "n_fft=2048\n",
        "hop_length=512\n",
        "num_segments=5\n",
        "SAMPLE_RATE = 22050\n",
        "TRACK_DURATION = 30 # measured in seconds\n",
        "SAMPLES_PER_TRACK = SAMPLE_RATE * TRACK_DURATION\n",
        "samples_per_segment = int(SAMPLES_PER_TRACK / num_segments)\n",
        "num_mfcc_vectors_per_segment = math.ceil(samples_per_segment / hop_length)"
      ],
      "metadata": {
        "id": "GvSHrIIAxxmw"
      },
      "execution_count": null,
      "outputs": []
    },
    {
      "cell_type": "code",
      "source": [
        "def get_mfccs(filename):\n",
        "  #extract the signals from the wav files\n",
        "  signal, sample_rate = librosa.load(filename, sr=SAMPLE_RATE)\n",
        "  mfcc_list = []\n",
        "  #break up the signals into more usable pieces\n",
        "  for piece_idx in range(num_segments):\n",
        "\n",
        "    #gets the start and end points for the signal piece\n",
        "    start = samples_per_segment * piece_idx\n",
        "    finish = start + samples_per_segment\n",
        "\n",
        "    # extract mfcc\n",
        "    mfcc = librosa.feature.mfcc(y=signal[start:finish], sr=sample_rate, n_mfcc=num_mfcc, n_fft=n_fft, hop_length=hop_length)\n",
        "    mfcc = mfcc.T\n",
        "    mfcc_list.append(mfcc)\n",
        "    flattened_list = [item for sublist in mfcc_list for item in sublist]\n",
        "    flattened_array = np.array(flattened_list)\n",
        "    feature_vector = flattened_array.flatten()\n",
        "    return feature_vector"
      ],
      "metadata": {
        "id": "GDRnhF9Kv2or"
      },
      "execution_count": null,
      "outputs": []
    },
    {
      "cell_type": "code",
      "source": [
        "#X1 will be the matrix made of training audio. This matrix will be split into training and testing parts\n",
        "#X2 will be the matrix made of testing audio\n",
        "\n",
        "X1 = []\n",
        "X2 = []\n",
        "\n",
        "# for file in filenames_training:\n",
        "#   X1.append(get_mfccs(file))\n",
        "\n",
        "# for file in filenames_testing:\n",
        "#   X2.append(get_mfccs(file))\n",
        "\n",
        "for file in filenames_training:\n",
        "  X1.append(extract_features(file))\n",
        "\n",
        "for file in filenames_testing:\n",
        "  X2.append(extract_features(file))"
      ],
      "metadata": {
        "id": "AyknZQIfvVe-"
      },
      "execution_count": null,
      "outputs": []
    },
    {
      "cell_type": "code",
      "source": [
        "from sklearn.preprocessing import StandardScaler\n",
        "from sklearn.decomposition import PCA\n",
        "from sklearn.model_selection import train_test_split\n",
        "\n",
        "X1 = StandardScaler().fit_transform(X1)\n",
        "pca = PCA(n_components=10)\n",
        "X1PCA = pca.fit_transform(X1)"
      ],
      "metadata": {
        "id": "400sLWTPzP8l"
      },
      "execution_count": null,
      "outputs": []
    },
    {
      "cell_type": "code",
      "source": [
        "X2 = StandardScaler().fit_transform(X2)\n",
        "pca = PCA(n_components=10)\n",
        "X2PCA = pca.fit_transform(X2)"
      ],
      "metadata": {
        "id": "spzSWVU4zZtC"
      },
      "execution_count": null,
      "outputs": []
    },
    {
      "cell_type": "code",
      "source": [
        "import csv\n",
        "\n",
        "#making the label vector\n",
        "labels_dict = {}\n",
        "\n",
        "with open('train.csv', 'r') as file:\n",
        "    reader = csv.reader(file)\n",
        "    for row in reader:\n",
        "        labels_dict[row[0]] = row[1]"
      ],
      "metadata": {
        "id": "S07B2_qezmyD"
      },
      "execution_count": null,
      "outputs": []
    },
    {
      "cell_type": "code",
      "source": [
        "str_to_num = {}\n",
        "num_to_str = {}\n",
        "for i, str in enumerate(['blues', 'classical', 'country', 'disco', 'hiphop', 'jazz', 'metal', 'pop', 'reggae', 'rock']):\n",
        "  str_to_num[str] = i\n",
        "  num_to_str[i] = str"
      ],
      "metadata": {
        "id": "_w4ggR2DzspL"
      },
      "execution_count": null,
      "outputs": []
    },
    {
      "cell_type": "code",
      "source": [
        "y = np.zeros((800, 1))\n",
        "for i, file in enumerate(filenames_training):\n",
        "    y[i] = str_to_num[labels_dict[file]]\n",
        "y = y.flatten()"
      ],
      "metadata": {
        "id": "LqLFb6gizuTd"
      },
      "execution_count": null,
      "outputs": []
    },
    {
      "cell_type": "code",
      "source": [
        "#Saving X1PCA and X2PCA\n",
        "file_name = 'X1'\n",
        "X1 = []\n",
        "with open(file_name, mode='w', newline='') as file:\n",
        "    writer = csv.writer(file)\n",
        "    writer.writerows(X1)\n",
        "\n",
        "file_name = 'X2'\n",
        "X2 = []\n",
        "with open(file_name, mode='w', newline='') as file:\n",
        "    writer = csv.writer(file)\n",
        "    writer.writerows(X2)"
      ],
      "metadata": {
        "id": "4GZ_INkm0xxF"
      },
      "execution_count": null,
      "outputs": []
    },
    {
      "cell_type": "code",
      "source": [
        "#Loading X1PCA and X2PCA\n",
        "import csv\n",
        "\n",
        "X1 = []\n",
        "\n",
        "with open('X1', 'r') as file:\n",
        "    reader = csv.reader(file)\n",
        "    for row in reader:\n",
        "        num_row = [float(x) for x in row]\n",
        "        X1.append(num_row)\n",
        "# X2 = []\n",
        "\n",
        "# with open('X2', 'r') as file:\n",
        "#     reader = csv.reader(file)\n",
        "#     for row in reader:\n",
        "#         num_row = [float(x) for x in row]\n",
        "#         X2.append(num_row)"
      ],
      "metadata": {
        "id": "TgZSWCcO1Ou6"
      },
      "execution_count": null,
      "outputs": []
    },
    {
      "cell_type": "code",
      "source": [
        "import csv\n",
        "import numpy as np\n",
        "\n",
        "Xmfcc = []\n",
        "\n",
        "with open('MFCC&DeltaMFCC_X', 'r') as file:\n",
        "    reader = csv.reader(file)\n",
        "    for row in reader:\n",
        "        num_row = [float(x) for x in row]\n",
        "        Xmfcc.append(num_row)"
      ],
      "metadata": {
        "id": "15evbkan2Ro7"
      },
      "execution_count": null,
      "outputs": []
    },
    {
      "cell_type": "code",
      "source": [
        "print(np.shape(Xmfcc))"
      ],
      "metadata": {
        "colab": {
          "base_uri": "https://localhost:8080/"
        },
        "id": "-aMnQyucd7Rh",
        "outputId": "1869f3bc-12ea-403d-963a-3e24c10a080e"
      },
      "execution_count": null,
      "outputs": [
        {
          "output_type": "stream",
          "name": "stdout",
          "text": [
            "(800, 16770)\n"
          ]
        }
      ]
    },
    {
      "cell_type": "markdown",
      "source": [
        "### Model 1: Pytorch Neural Net"
      ],
      "metadata": {
        "id": "jteEXGQd4qwx"
      }
    },
    {
      "cell_type": "code",
      "source": [
        "import torch\n",
        "import torch.nn as nn\n",
        "import torch.nn.functional as F\n",
        "import matplotlib.pyplot as plt"
      ],
      "metadata": {
        "id": "_-tvFzjb4ulP"
      },
      "execution_count": null,
      "outputs": []
    },
    {
      "cell_type": "code",
      "source": [
        "class Model(nn.Module):\n",
        "  #inut layer (13 features)\n",
        "  def __init__(self, input_size=57, h1=512, h2=256, h3=64, output_size=10):\n",
        "        super(Model, self).__init__()\n",
        "        self.fc1 = nn.Linear(input_size, h1)\n",
        "        self.fc2 = nn.Linear(h1, h2)\n",
        "        self.fc3 = nn.Linear(h2, h3)\n",
        "        # self.fc4 = nn.Linear(h3, output_size)\n",
        "        self.dropout = nn.Dropout(p=0.3)  # Define dropout layer\n",
        "        self.softmax = nn.Softmax(dim=1)  # Define softmax layer\n",
        "\n",
        "  def forward(self, x):\n",
        "      x = torch.relu(self.fc1(x))\n",
        "      x = self.dropout(x)\n",
        "\n",
        "      x = torch.relu(self.fc2(x))\n",
        "      x = self.dropout(x)\n",
        "\n",
        "      x = torch.relu(self.fc3(x))\n",
        "      x = self.dropout(x)  # Apply dropout\n",
        "      # x = self.fc4(x)\n",
        "      x = self.softmax(x)  # Apply softmax\n",
        "      return x"
      ],
      "metadata": {
        "id": "ATUXxaBh6BTN"
      },
      "execution_count": null,
      "outputs": []
    },
    {
      "cell_type": "code",
      "source": [
        "model = Model()"
      ],
      "metadata": {
        "id": "i9jA1mA06LYQ"
      },
      "execution_count": null,
      "outputs": []
    },
    {
      "cell_type": "code",
      "source": [
        "from sklearn.model_selection import train_test_split"
      ],
      "metadata": {
        "id": "7tJcfGAE6NC4"
      },
      "execution_count": null,
      "outputs": []
    },
    {
      "cell_type": "code",
      "source": [
        "X_train, X_test, y_train, y_test = train_test_split(X1, y, test_size=.2)"
      ],
      "metadata": {
        "id": "kG4wGgIv6O_0"
      },
      "execution_count": null,
      "outputs": []
    },
    {
      "cell_type": "code",
      "source": [
        "X_train = torch.FloatTensor(X_train)\n",
        "X_test = torch.FloatTensor(X_test)"
      ],
      "metadata": {
        "id": "OV1wHSLU6Q6q"
      },
      "execution_count": null,
      "outputs": []
    },
    {
      "cell_type": "code",
      "source": [
        "y_train = torch.FloatTensor(y_train).long()\n",
        "y_test = torch.FloatTensor(y_test).long()"
      ],
      "metadata": {
        "id": "dwfck7IM6SbL"
      },
      "execution_count": null,
      "outputs": []
    },
    {
      "cell_type": "code",
      "source": [
        "criterion = nn.CrossEntropyLoss()\n",
        "optimizer = torch.optim.Adam(model.parameters(), lr=0.001, weight_decay=1e-5)"
      ],
      "metadata": {
        "id": "Xc4CFRxY6UH9"
      },
      "execution_count": null,
      "outputs": []
    },
    {
      "cell_type": "code",
      "source": [
        "epochs = 5000\n",
        "losses = []\n",
        "for i in range(epochs):\n",
        "  y_pred = model.forward(X_train)\n",
        "  loss = criterion(y_pred, y_train)\n",
        "  losses.append(loss.detach().numpy())\n",
        "\n",
        "  if i % 100 == 0:\n",
        "    print(f'Epoch: {i} and loss: {loss}')\n",
        "\n",
        "  optimizer.zero_grad()\n",
        "  loss.backward()\n",
        "  optimizer.step()"
      ],
      "metadata": {
        "colab": {
          "base_uri": "https://localhost:8080/",
          "height": 373
        },
        "id": "yJ_TMvb-6Xhc",
        "outputId": "8652d7e5-6e07-4778-ba03-9099950af4e7"
      },
      "execution_count": null,
      "outputs": [
        {
          "output_type": "stream",
          "name": "stdout",
          "text": [
            "Epoch: 0 and loss: 4.182253837585449\n"
          ]
        },
        {
          "output_type": "error",
          "ename": "KeyboardInterrupt",
          "evalue": "",
          "traceback": [
            "\u001b[0;31m---------------------------------------------------------------------------\u001b[0m",
            "\u001b[0;31mKeyboardInterrupt\u001b[0m                         Traceback (most recent call last)",
            "\u001b[0;32m<ipython-input-76-8ab5f972ab55>\u001b[0m in \u001b[0;36m<cell line: 3>\u001b[0;34m()\u001b[0m\n\u001b[1;32m      3\u001b[0m \u001b[0;32mfor\u001b[0m \u001b[0mi\u001b[0m \u001b[0;32min\u001b[0m \u001b[0mrange\u001b[0m\u001b[0;34m(\u001b[0m\u001b[0mepochs\u001b[0m\u001b[0;34m)\u001b[0m\u001b[0;34m:\u001b[0m\u001b[0;34m\u001b[0m\u001b[0;34m\u001b[0m\u001b[0m\n\u001b[1;32m      4\u001b[0m   \u001b[0my_pred\u001b[0m \u001b[0;34m=\u001b[0m \u001b[0mmodel\u001b[0m\u001b[0;34m.\u001b[0m\u001b[0mforward\u001b[0m\u001b[0;34m(\u001b[0m\u001b[0mX_train\u001b[0m\u001b[0;34m)\u001b[0m\u001b[0;34m\u001b[0m\u001b[0;34m\u001b[0m\u001b[0m\n\u001b[0;32m----> 5\u001b[0;31m   \u001b[0mloss\u001b[0m \u001b[0;34m=\u001b[0m \u001b[0mcriterion\u001b[0m\u001b[0;34m(\u001b[0m\u001b[0my_pred\u001b[0m\u001b[0;34m,\u001b[0m \u001b[0my_train\u001b[0m\u001b[0;34m)\u001b[0m\u001b[0;34m\u001b[0m\u001b[0;34m\u001b[0m\u001b[0m\n\u001b[0m\u001b[1;32m      6\u001b[0m   \u001b[0mlosses\u001b[0m\u001b[0;34m.\u001b[0m\u001b[0mappend\u001b[0m\u001b[0;34m(\u001b[0m\u001b[0mloss\u001b[0m\u001b[0;34m.\u001b[0m\u001b[0mdetach\u001b[0m\u001b[0;34m(\u001b[0m\u001b[0;34m)\u001b[0m\u001b[0;34m.\u001b[0m\u001b[0mnumpy\u001b[0m\u001b[0;34m(\u001b[0m\u001b[0;34m)\u001b[0m\u001b[0;34m)\u001b[0m\u001b[0;34m\u001b[0m\u001b[0;34m\u001b[0m\u001b[0m\n\u001b[1;32m      7\u001b[0m \u001b[0;34m\u001b[0m\u001b[0m\n",
            "\u001b[0;32m/usr/local/lib/python3.10/dist-packages/torch/nn/modules/module.py\u001b[0m in \u001b[0;36m_wrapped_call_impl\u001b[0;34m(self, *args, **kwargs)\u001b[0m\n\u001b[1;32m   1509\u001b[0m             \u001b[0;32mreturn\u001b[0m \u001b[0mself\u001b[0m\u001b[0;34m.\u001b[0m\u001b[0m_compiled_call_impl\u001b[0m\u001b[0;34m(\u001b[0m\u001b[0;34m*\u001b[0m\u001b[0margs\u001b[0m\u001b[0;34m,\u001b[0m \u001b[0;34m**\u001b[0m\u001b[0mkwargs\u001b[0m\u001b[0;34m)\u001b[0m  \u001b[0;31m# type: ignore[misc]\u001b[0m\u001b[0;34m\u001b[0m\u001b[0;34m\u001b[0m\u001b[0m\n\u001b[1;32m   1510\u001b[0m         \u001b[0;32melse\u001b[0m\u001b[0;34m:\u001b[0m\u001b[0;34m\u001b[0m\u001b[0;34m\u001b[0m\u001b[0m\n\u001b[0;32m-> 1511\u001b[0;31m             \u001b[0;32mreturn\u001b[0m \u001b[0mself\u001b[0m\u001b[0;34m.\u001b[0m\u001b[0m_call_impl\u001b[0m\u001b[0;34m(\u001b[0m\u001b[0;34m*\u001b[0m\u001b[0margs\u001b[0m\u001b[0;34m,\u001b[0m \u001b[0;34m**\u001b[0m\u001b[0mkwargs\u001b[0m\u001b[0;34m)\u001b[0m\u001b[0;34m\u001b[0m\u001b[0;34m\u001b[0m\u001b[0m\n\u001b[0m\u001b[1;32m   1512\u001b[0m \u001b[0;34m\u001b[0m\u001b[0m\n\u001b[1;32m   1513\u001b[0m     \u001b[0;32mdef\u001b[0m \u001b[0m_call_impl\u001b[0m\u001b[0;34m(\u001b[0m\u001b[0mself\u001b[0m\u001b[0;34m,\u001b[0m \u001b[0;34m*\u001b[0m\u001b[0margs\u001b[0m\u001b[0;34m,\u001b[0m \u001b[0;34m**\u001b[0m\u001b[0mkwargs\u001b[0m\u001b[0;34m)\u001b[0m\u001b[0;34m:\u001b[0m\u001b[0;34m\u001b[0m\u001b[0;34m\u001b[0m\u001b[0m\n",
            "\u001b[0;32m/usr/local/lib/python3.10/dist-packages/torch/nn/modules/module.py\u001b[0m in \u001b[0;36m_call_impl\u001b[0;34m(self, *args, **kwargs)\u001b[0m\n\u001b[1;32m   1518\u001b[0m                 \u001b[0;32mor\u001b[0m \u001b[0m_global_backward_pre_hooks\u001b[0m \u001b[0;32mor\u001b[0m \u001b[0m_global_backward_hooks\u001b[0m\u001b[0;34m\u001b[0m\u001b[0;34m\u001b[0m\u001b[0m\n\u001b[1;32m   1519\u001b[0m                 or _global_forward_hooks or _global_forward_pre_hooks):\n\u001b[0;32m-> 1520\u001b[0;31m             \u001b[0;32mreturn\u001b[0m \u001b[0mforward_call\u001b[0m\u001b[0;34m(\u001b[0m\u001b[0;34m*\u001b[0m\u001b[0margs\u001b[0m\u001b[0;34m,\u001b[0m \u001b[0;34m**\u001b[0m\u001b[0mkwargs\u001b[0m\u001b[0;34m)\u001b[0m\u001b[0;34m\u001b[0m\u001b[0;34m\u001b[0m\u001b[0m\n\u001b[0m\u001b[1;32m   1521\u001b[0m \u001b[0;34m\u001b[0m\u001b[0m\n\u001b[1;32m   1522\u001b[0m         \u001b[0;32mtry\u001b[0m\u001b[0;34m:\u001b[0m\u001b[0;34m\u001b[0m\u001b[0;34m\u001b[0m\u001b[0m\n",
            "\u001b[0;32m/usr/local/lib/python3.10/dist-packages/torch/nn/modules/loss.py\u001b[0m in \u001b[0;36mforward\u001b[0;34m(self, input, target)\u001b[0m\n\u001b[1;32m   1177\u001b[0m \u001b[0;34m\u001b[0m\u001b[0m\n\u001b[1;32m   1178\u001b[0m     \u001b[0;32mdef\u001b[0m \u001b[0mforward\u001b[0m\u001b[0;34m(\u001b[0m\u001b[0mself\u001b[0m\u001b[0;34m,\u001b[0m \u001b[0minput\u001b[0m\u001b[0;34m:\u001b[0m \u001b[0mTensor\u001b[0m\u001b[0;34m,\u001b[0m \u001b[0mtarget\u001b[0m\u001b[0;34m:\u001b[0m \u001b[0mTensor\u001b[0m\u001b[0;34m)\u001b[0m \u001b[0;34m->\u001b[0m \u001b[0mTensor\u001b[0m\u001b[0;34m:\u001b[0m\u001b[0;34m\u001b[0m\u001b[0;34m\u001b[0m\u001b[0m\n\u001b[0;32m-> 1179\u001b[0;31m         return F.cross_entropy(input, target, weight=self.weight,\n\u001b[0m\u001b[1;32m   1180\u001b[0m                                \u001b[0mignore_index\u001b[0m\u001b[0;34m=\u001b[0m\u001b[0mself\u001b[0m\u001b[0;34m.\u001b[0m\u001b[0mignore_index\u001b[0m\u001b[0;34m,\u001b[0m \u001b[0mreduction\u001b[0m\u001b[0;34m=\u001b[0m\u001b[0mself\u001b[0m\u001b[0;34m.\u001b[0m\u001b[0mreduction\u001b[0m\u001b[0;34m,\u001b[0m\u001b[0;34m\u001b[0m\u001b[0;34m\u001b[0m\u001b[0m\n\u001b[1;32m   1181\u001b[0m                                label_smoothing=self.label_smoothing)\n",
            "\u001b[0;32m/usr/local/lib/python3.10/dist-packages/torch/nn/modules/module.py\u001b[0m in \u001b[0;36m__getattr__\u001b[0;34m(self, name)\u001b[0m\n\u001b[1;32m   1673\u001b[0m     \u001b[0;31m# See full discussion on the problems with returning `Union` here\u001b[0m\u001b[0;34m\u001b[0m\u001b[0;34m\u001b[0m\u001b[0m\n\u001b[1;32m   1674\u001b[0m     \u001b[0;31m# https://github.com/microsoft/pyright/issues/4213\u001b[0m\u001b[0;34m\u001b[0m\u001b[0;34m\u001b[0m\u001b[0m\n\u001b[0;32m-> 1675\u001b[0;31m     \u001b[0;32mdef\u001b[0m \u001b[0m__getattr__\u001b[0m\u001b[0;34m(\u001b[0m\u001b[0mself\u001b[0m\u001b[0;34m,\u001b[0m \u001b[0mname\u001b[0m\u001b[0;34m:\u001b[0m \u001b[0mstr\u001b[0m\u001b[0;34m)\u001b[0m \u001b[0;34m->\u001b[0m \u001b[0mAny\u001b[0m\u001b[0;34m:\u001b[0m\u001b[0;34m\u001b[0m\u001b[0;34m\u001b[0m\u001b[0m\n\u001b[0m\u001b[1;32m   1676\u001b[0m         \u001b[0;32mif\u001b[0m \u001b[0;34m'_parameters'\u001b[0m \u001b[0;32min\u001b[0m \u001b[0mself\u001b[0m\u001b[0;34m.\u001b[0m\u001b[0m__dict__\u001b[0m\u001b[0;34m:\u001b[0m\u001b[0;34m\u001b[0m\u001b[0;34m\u001b[0m\u001b[0m\n\u001b[1;32m   1677\u001b[0m             \u001b[0m_parameters\u001b[0m \u001b[0;34m=\u001b[0m \u001b[0mself\u001b[0m\u001b[0;34m.\u001b[0m\u001b[0m__dict__\u001b[0m\u001b[0;34m[\u001b[0m\u001b[0;34m'_parameters'\u001b[0m\u001b[0;34m]\u001b[0m\u001b[0;34m\u001b[0m\u001b[0;34m\u001b[0m\u001b[0m\n",
            "\u001b[0;31mKeyboardInterrupt\u001b[0m: "
          ]
        }
      ]
    },
    {
      "cell_type": "code",
      "source": [
        "plt.plot(range(epochs), losses)\n",
        "plt.ylabel('loss')\n",
        "plt.xlabel('epoch')"
      ],
      "metadata": {
        "id": "VoY8oW1V6at9"
      },
      "execution_count": null,
      "outputs": []
    },
    {
      "cell_type": "code",
      "source": [
        "with torch.no_grad():\n",
        "  y_eval = model.forward(X_test)\n",
        "  loss = criterion(y_eval, y_test)"
      ],
      "metadata": {
        "id": "C36FWjtw6hnw"
      },
      "execution_count": null,
      "outputs": []
    },
    {
      "cell_type": "code",
      "source": [
        "loss"
      ],
      "metadata": {
        "id": "koYRbLRx6jQv"
      },
      "execution_count": null,
      "outputs": []
    },
    {
      "cell_type": "markdown",
      "source": [
        "### Tensorflow NN"
      ],
      "metadata": {
        "id": "KuiUcXgR7_Lj"
      }
    },
    {
      "cell_type": "code",
      "source": [
        "import tensorflow as tf\n",
        "import tensorflow.keras as keras\n",
        "from tensorflow.keras import Sequential\n",
        "from tensorflow.keras.layers import *"
      ],
      "metadata": {
        "id": "mGNomY9yunXg"
      },
      "execution_count": null,
      "outputs": []
    },
    {
      "cell_type": "code",
      "source": [
        "model = Sequential()\n",
        "\n",
        "model.add(Flatten(input_shape=(57,)))\n",
        "model.add(Dense(512, activation='relu'))\n",
        "model.add(BatchNormalization())\n",
        "model.add(Dense(256, activation='relu'))\n",
        "model.add(BatchNormalization())\n",
        "model.add(Dense(128, activation='relu'))\n",
        "model.add(BatchNormalization())\n",
        "model.add(Dense(64, activation='relu'))\n",
        "model.add(Dropout(0.3))\n",
        "model.add(Dense(10, activation='softmax'))\n",
        "model.summary()"
      ],
      "metadata": {
        "colab": {
          "base_uri": "https://localhost:8080/"
        },
        "id": "Soq2rBZT8Bns",
        "outputId": "dfad6517-11cf-4457-924a-e93ab89520fd"
      },
      "execution_count": null,
      "outputs": [
        {
          "output_type": "stream",
          "name": "stdout",
          "text": [
            "Model: \"sequential\"\n",
            "_________________________________________________________________\n",
            " Layer (type)                Output Shape              Param #   \n",
            "=================================================================\n",
            " flatten (Flatten)           (None, 57)                0         \n",
            "                                                                 \n",
            " dense (Dense)               (None, 512)               29696     \n",
            "                                                                 \n",
            " batch_normalization (Batch  (None, 512)               2048      \n",
            " Normalization)                                                  \n",
            "                                                                 \n",
            " dense_1 (Dense)             (None, 256)               131328    \n",
            "                                                                 \n",
            " batch_normalization_1 (Bat  (None, 256)               1024      \n",
            " chNormalization)                                                \n",
            "                                                                 \n",
            " dense_2 (Dense)             (None, 128)               32896     \n",
            "                                                                 \n",
            " batch_normalization_2 (Bat  (None, 128)               512       \n",
            " chNormalization)                                                \n",
            "                                                                 \n",
            " dense_3 (Dense)             (None, 64)                8256      \n",
            "                                                                 \n",
            " dropout (Dropout)           (None, 64)                0         \n",
            "                                                                 \n",
            " dense_4 (Dense)             (None, 10)                650       \n",
            "                                                                 \n",
            "=================================================================\n",
            "Total params: 206410 (806.29 KB)\n",
            "Trainable params: 204618 (799.29 KB)\n",
            "Non-trainable params: 1792 (7.00 KB)\n",
            "_________________________________________________________________\n"
          ]
        }
      ]
    },
    {
      "cell_type": "code",
      "source": [
        "X_train, X_test, y_train, y_test = train_test_split(Xmfcc, y, test_size=.2)"
      ],
      "metadata": {
        "id": "pOyJgL9D3slg"
      },
      "execution_count": null,
      "outputs": []
    },
    {
      "cell_type": "code",
      "source": [
        "X_train = tf.convert_to_tensor(X_train, dtype=tf.float32)\n",
        "X_test = tf.convert_to_tensor(X_test, dtype=tf.float32)\n",
        "\n",
        "y_train = tf.convert_to_tensor(y_train, dtype=tf.float32)\n",
        "y_test = tf.convert_to_tensor(y_test, dtype=tf.float32)"
      ],
      "metadata": {
        "id": "wLfln0hw8k7a"
      },
      "execution_count": null,
      "outputs": []
    },
    {
      "cell_type": "code",
      "source": [
        "# compile the model\n",
        "adam = keras.optimizers.Adam(learning_rate=1e-4)\n",
        "model.compile(optimizer=adam,\n",
        "             loss=\"sparse_categorical_crossentropy\",\n",
        "             metrics=[\"accuracy\"])\n",
        "\n",
        "hist = model.fit(X_train, y_train,\n",
        "                 validation_data = (X_test,y_test),\n",
        "                 epochs = 100,\n",
        "                 batch_size = 32)"
      ],
      "metadata": {
        "id": "EHHVy2f38GKp",
        "colab": {
          "base_uri": "https://localhost:8080/"
        },
        "outputId": "fea07f1b-1ebe-45ec-d086-1565c66fac04"
      },
      "execution_count": null,
      "outputs": [
        {
          "output_type": "stream",
          "name": "stdout",
          "text": [
            "Epoch 1/100\n",
            "20/20 [==============================] - 9s 176ms/step - loss: 2.3682 - accuracy: 0.2109 - val_loss: 4.3815 - val_accuracy: 0.1625\n",
            "Epoch 2/100\n",
            "20/20 [==============================] - 3s 163ms/step - loss: 1.7255 - accuracy: 0.3891 - val_loss: 2.5972 - val_accuracy: 0.2000\n",
            "Epoch 3/100\n",
            "20/20 [==============================] - 5s 263ms/step - loss: 1.4064 - accuracy: 0.5234 - val_loss: 2.5388 - val_accuracy: 0.1875\n",
            "Epoch 4/100\n",
            "20/20 [==============================] - 3s 163ms/step - loss: 1.1691 - accuracy: 0.6359 - val_loss: 1.8499 - val_accuracy: 0.3375\n",
            "Epoch 5/100\n",
            "20/20 [==============================] - 3s 160ms/step - loss: 0.9977 - accuracy: 0.6734 - val_loss: 1.7337 - val_accuracy: 0.3938\n",
            "Epoch 6/100\n",
            "20/20 [==============================] - 3s 161ms/step - loss: 0.8455 - accuracy: 0.7641 - val_loss: 1.6397 - val_accuracy: 0.4375\n",
            "Epoch 7/100\n",
            "20/20 [==============================] - 6s 294ms/step - loss: 0.6892 - accuracy: 0.8391 - val_loss: 1.6043 - val_accuracy: 0.4375\n",
            "Epoch 8/100\n",
            "20/20 [==============================] - 3s 167ms/step - loss: 0.5761 - accuracy: 0.8609 - val_loss: 1.4806 - val_accuracy: 0.4938\n",
            "Epoch 9/100\n",
            "20/20 [==============================] - 3s 164ms/step - loss: 0.4965 - accuracy: 0.9094 - val_loss: 1.5852 - val_accuracy: 0.5000\n",
            "Epoch 10/100\n",
            "20/20 [==============================] - 4s 197ms/step - loss: 0.4215 - accuracy: 0.9281 - val_loss: 1.5107 - val_accuracy: 0.5125\n",
            "Epoch 11/100\n",
            "20/20 [==============================] - 4s 215ms/step - loss: 0.3643 - accuracy: 0.9500 - val_loss: 1.2797 - val_accuracy: 0.5437\n",
            "Epoch 12/100\n",
            "20/20 [==============================] - 3s 167ms/step - loss: 0.3357 - accuracy: 0.9391 - val_loss: 1.6228 - val_accuracy: 0.4875\n",
            "Epoch 13/100\n",
            "20/20 [==============================] - 3s 167ms/step - loss: 0.3208 - accuracy: 0.9453 - val_loss: 1.3853 - val_accuracy: 0.5312\n",
            "Epoch 14/100\n",
            "20/20 [==============================] - 4s 226ms/step - loss: 0.2777 - accuracy: 0.9641 - val_loss: 1.5323 - val_accuracy: 0.4875\n",
            "Epoch 15/100\n",
            "20/20 [==============================] - 4s 182ms/step - loss: 0.2538 - accuracy: 0.9641 - val_loss: 1.3757 - val_accuracy: 0.5250\n",
            "Epoch 16/100\n",
            "20/20 [==============================] - 3s 166ms/step - loss: 0.2298 - accuracy: 0.9719 - val_loss: 1.3674 - val_accuracy: 0.5625\n",
            "Epoch 17/100\n",
            "20/20 [==============================] - 3s 165ms/step - loss: 0.1864 - accuracy: 0.9750 - val_loss: 1.3604 - val_accuracy: 0.5312\n",
            "Epoch 18/100\n",
            "20/20 [==============================] - 5s 254ms/step - loss: 0.1820 - accuracy: 0.9797 - val_loss: 1.3731 - val_accuracy: 0.5625\n",
            "Epoch 19/100\n",
            "20/20 [==============================] - 3s 167ms/step - loss: 0.1452 - accuracy: 0.9875 - val_loss: 1.4702 - val_accuracy: 0.5125\n",
            "Epoch 20/100\n",
            "20/20 [==============================] - 3s 164ms/step - loss: 0.1399 - accuracy: 0.9906 - val_loss: 1.4252 - val_accuracy: 0.5188\n",
            "Epoch 21/100\n",
            "20/20 [==============================] - 3s 167ms/step - loss: 0.1406 - accuracy: 0.9781 - val_loss: 1.5334 - val_accuracy: 0.4500\n",
            "Epoch 22/100\n",
            "20/20 [==============================] - 5s 245ms/step - loss: 0.1321 - accuracy: 0.9922 - val_loss: 1.4586 - val_accuracy: 0.5000\n",
            "Epoch 23/100\n",
            "20/20 [==============================] - 3s 166ms/step - loss: 0.1219 - accuracy: 0.9812 - val_loss: 1.3531 - val_accuracy: 0.5500\n",
            "Epoch 24/100\n",
            "20/20 [==============================] - 3s 163ms/step - loss: 0.1287 - accuracy: 0.9891 - val_loss: 1.4515 - val_accuracy: 0.5312\n",
            "Epoch 25/100\n",
            "20/20 [==============================] - 4s 192ms/step - loss: 0.1156 - accuracy: 0.9937 - val_loss: 1.3262 - val_accuracy: 0.5500\n",
            "Epoch 26/100\n",
            "20/20 [==============================] - 4s 213ms/step - loss: 0.1041 - accuracy: 0.9922 - val_loss: 1.2895 - val_accuracy: 0.5500\n",
            "Epoch 27/100\n",
            "20/20 [==============================] - 3s 164ms/step - loss: 0.0960 - accuracy: 0.9922 - val_loss: 1.3350 - val_accuracy: 0.5312\n",
            "Epoch 28/100\n",
            "20/20 [==============================] - 3s 163ms/step - loss: 0.0874 - accuracy: 0.9969 - val_loss: 1.4611 - val_accuracy: 0.5125\n",
            "Epoch 29/100\n",
            "20/20 [==============================] - 4s 213ms/step - loss: 0.0987 - accuracy: 0.9906 - val_loss: 1.3985 - val_accuracy: 0.5437\n",
            "Epoch 30/100\n",
            "20/20 [==============================] - 4s 194ms/step - loss: 0.0932 - accuracy: 0.9937 - val_loss: 1.4099 - val_accuracy: 0.5375\n",
            "Epoch 31/100\n",
            "20/20 [==============================] - 5s 243ms/step - loss: 0.0888 - accuracy: 0.9922 - val_loss: 1.5661 - val_accuracy: 0.4688\n",
            "Epoch 32/100\n",
            "20/20 [==============================] - 4s 182ms/step - loss: 0.1007 - accuracy: 0.9859 - val_loss: 1.4026 - val_accuracy: 0.5125\n",
            "Epoch 33/100\n",
            "20/20 [==============================] - 5s 228ms/step - loss: 0.0943 - accuracy: 0.9906 - val_loss: 1.4577 - val_accuracy: 0.5125\n",
            "Epoch 34/100\n",
            "20/20 [==============================] - 3s 165ms/step - loss: 0.0784 - accuracy: 0.9937 - val_loss: 1.4394 - val_accuracy: 0.5625\n",
            "Epoch 35/100\n",
            "20/20 [==============================] - 4s 206ms/step - loss: 0.0669 - accuracy: 0.9937 - val_loss: 1.5454 - val_accuracy: 0.5312\n",
            "Epoch 36/100\n",
            "20/20 [==============================] - 5s 230ms/step - loss: 0.0686 - accuracy: 0.9922 - val_loss: 1.5674 - val_accuracy: 0.5188\n",
            "Epoch 37/100\n",
            "20/20 [==============================] - 4s 177ms/step - loss: 0.0623 - accuracy: 0.9969 - val_loss: 1.6427 - val_accuracy: 0.4875\n",
            "Epoch 38/100\n",
            "20/20 [==============================] - 3s 164ms/step - loss: 0.0596 - accuracy: 0.9953 - val_loss: 1.5226 - val_accuracy: 0.5063\n",
            "Epoch 39/100\n",
            "20/20 [==============================] - 3s 168ms/step - loss: 0.0571 - accuracy: 0.9953 - val_loss: 1.5498 - val_accuracy: 0.4938\n",
            "Epoch 40/100\n",
            "20/20 [==============================] - 5s 249ms/step - loss: 0.0576 - accuracy: 0.9937 - val_loss: 1.5482 - val_accuracy: 0.5063\n",
            "Epoch 41/100\n",
            "20/20 [==============================] - 3s 164ms/step - loss: 0.0663 - accuracy: 0.9953 - val_loss: 1.5212 - val_accuracy: 0.5250\n",
            "Epoch 42/100\n",
            "20/20 [==============================] - 3s 164ms/step - loss: 0.0497 - accuracy: 0.9953 - val_loss: 1.6259 - val_accuracy: 0.5000\n",
            "Epoch 43/100\n",
            "20/20 [==============================] - 4s 177ms/step - loss: 0.0521 - accuracy: 0.9937 - val_loss: 1.4917 - val_accuracy: 0.5813\n",
            "Epoch 44/100\n",
            "20/20 [==============================] - 5s 231ms/step - loss: 0.0493 - accuracy: 0.9937 - val_loss: 1.5221 - val_accuracy: 0.5250\n",
            "Epoch 45/100\n",
            "20/20 [==============================] - 3s 164ms/step - loss: 0.0435 - accuracy: 0.9984 - val_loss: 1.6062 - val_accuracy: 0.5250\n",
            "Epoch 46/100\n",
            "20/20 [==============================] - 3s 164ms/step - loss: 0.0437 - accuracy: 0.9969 - val_loss: 1.5177 - val_accuracy: 0.5063\n",
            "Epoch 47/100\n",
            "20/20 [==============================] - 4s 195ms/step - loss: 0.0425 - accuracy: 0.9984 - val_loss: 1.5762 - val_accuracy: 0.5063\n",
            "Epoch 48/100\n",
            "20/20 [==============================] - 4s 217ms/step - loss: 0.0486 - accuracy: 0.9953 - val_loss: 1.5931 - val_accuracy: 0.5312\n",
            "Epoch 49/100\n",
            "20/20 [==============================] - 3s 168ms/step - loss: 0.0467 - accuracy: 0.9984 - val_loss: 1.7010 - val_accuracy: 0.5000\n",
            "Epoch 50/100\n",
            "20/20 [==============================] - 3s 164ms/step - loss: 0.0386 - accuracy: 0.9969 - val_loss: 1.5232 - val_accuracy: 0.4938\n",
            "Epoch 51/100\n",
            "20/20 [==============================] - 4s 226ms/step - loss: 0.0586 - accuracy: 0.9953 - val_loss: 1.6182 - val_accuracy: 0.4938\n",
            "Epoch 52/100\n",
            "20/20 [==============================] - 4s 186ms/step - loss: 0.0434 - accuracy: 0.9969 - val_loss: 1.4094 - val_accuracy: 0.5188\n",
            "Epoch 53/100\n",
            "20/20 [==============================] - 3s 167ms/step - loss: 0.0470 - accuracy: 0.9953 - val_loss: 1.5755 - val_accuracy: 0.5250\n",
            "Epoch 54/100\n",
            "20/20 [==============================] - 3s 167ms/step - loss: 0.0405 - accuracy: 0.9969 - val_loss: 1.6159 - val_accuracy: 0.5000\n",
            "Epoch 55/100\n",
            "20/20 [==============================] - 5s 249ms/step - loss: 0.0416 - accuracy: 0.9984 - val_loss: 1.6988 - val_accuracy: 0.5063\n",
            "Epoch 56/100\n",
            "20/20 [==============================] - 3s 167ms/step - loss: 0.0380 - accuracy: 0.9953 - val_loss: 1.4410 - val_accuracy: 0.5625\n",
            "Epoch 57/100\n",
            "20/20 [==============================] - 3s 165ms/step - loss: 0.0369 - accuracy: 0.9953 - val_loss: 1.5176 - val_accuracy: 0.5750\n",
            "Epoch 58/100\n",
            "20/20 [==============================] - 4s 179ms/step - loss: 0.0404 - accuracy: 0.9937 - val_loss: 1.5593 - val_accuracy: 0.5813\n",
            "Epoch 59/100\n",
            "20/20 [==============================] - 5s 229ms/step - loss: 0.0312 - accuracy: 0.9969 - val_loss: 1.5133 - val_accuracy: 0.5688\n",
            "Epoch 60/100\n",
            "20/20 [==============================] - 3s 167ms/step - loss: 0.0296 - accuracy: 1.0000 - val_loss: 1.6831 - val_accuracy: 0.4812\n",
            "Epoch 61/100\n",
            "20/20 [==============================] - 3s 165ms/step - loss: 0.0300 - accuracy: 0.9984 - val_loss: 1.6157 - val_accuracy: 0.5437\n",
            "Epoch 62/100\n",
            "20/20 [==============================] - 4s 202ms/step - loss: 0.0315 - accuracy: 0.9984 - val_loss: 1.7073 - val_accuracy: 0.5188\n",
            "Epoch 63/100\n",
            "20/20 [==============================] - 5s 249ms/step - loss: 0.0264 - accuracy: 0.9984 - val_loss: 1.6194 - val_accuracy: 0.5437\n",
            "Epoch 64/100\n",
            "20/20 [==============================] - 3s 167ms/step - loss: 0.0253 - accuracy: 0.9984 - val_loss: 1.7873 - val_accuracy: 0.5000\n",
            "Epoch 65/100\n",
            "20/20 [==============================] - 3s 165ms/step - loss: 0.0235 - accuracy: 0.9984 - val_loss: 1.8028 - val_accuracy: 0.4625\n",
            "Epoch 66/100\n",
            "20/20 [==============================] - 5s 254ms/step - loss: 0.0248 - accuracy: 0.9984 - val_loss: 1.5752 - val_accuracy: 0.5312\n",
            "Epoch 67/100\n",
            "20/20 [==============================] - 3s 166ms/step - loss: 0.0284 - accuracy: 0.9984 - val_loss: 1.6676 - val_accuracy: 0.4500\n",
            "Epoch 68/100\n",
            "20/20 [==============================] - 3s 166ms/step - loss: 0.0254 - accuracy: 0.9984 - val_loss: 1.6208 - val_accuracy: 0.5063\n",
            "Epoch 69/100\n",
            "20/20 [==============================] - 3s 167ms/step - loss: 0.0381 - accuracy: 0.9969 - val_loss: 1.9332 - val_accuracy: 0.4688\n",
            "Epoch 70/100\n",
            "20/20 [==============================] - 5s 245ms/step - loss: 0.0293 - accuracy: 0.9937 - val_loss: 1.6103 - val_accuracy: 0.5375\n",
            "Epoch 71/100\n",
            "20/20 [==============================] - 3s 166ms/step - loss: 0.0316 - accuracy: 0.9953 - val_loss: 1.6309 - val_accuracy: 0.5500\n",
            "Epoch 72/100\n",
            "20/20 [==============================] - 3s 166ms/step - loss: 0.0276 - accuracy: 0.9969 - val_loss: 1.7301 - val_accuracy: 0.4750\n",
            "Epoch 73/100\n",
            "20/20 [==============================] - 4s 195ms/step - loss: 0.0236 - accuracy: 0.9984 - val_loss: 1.7218 - val_accuracy: 0.5063\n",
            "Epoch 74/100\n",
            "20/20 [==============================] - 4s 217ms/step - loss: 0.0276 - accuracy: 0.9953 - val_loss: 1.6446 - val_accuracy: 0.5312\n",
            "Epoch 75/100\n",
            "20/20 [==============================] - 3s 164ms/step - loss: 0.0310 - accuracy: 0.9969 - val_loss: 1.6931 - val_accuracy: 0.4875\n",
            "Epoch 76/100\n",
            "20/20 [==============================] - 3s 167ms/step - loss: 0.0278 - accuracy: 0.9953 - val_loss: 1.7527 - val_accuracy: 0.5250\n",
            "Epoch 77/100\n",
            "20/20 [==============================] - 4s 218ms/step - loss: 0.0254 - accuracy: 0.9953 - val_loss: 1.7182 - val_accuracy: 0.5188\n",
            "Epoch 78/100\n",
            "20/20 [==============================] - 4s 196ms/step - loss: 0.0252 - accuracy: 0.9953 - val_loss: 1.8615 - val_accuracy: 0.4875\n",
            "Epoch 79/100\n",
            "20/20 [==============================] - 3s 163ms/step - loss: 0.0217 - accuracy: 0.9984 - val_loss: 1.7287 - val_accuracy: 0.5063\n",
            "Epoch 80/100\n",
            "20/20 [==============================] - 3s 167ms/step - loss: 0.0181 - accuracy: 1.0000 - val_loss: 1.8989 - val_accuracy: 0.5188\n",
            "Epoch 81/100\n",
            "20/20 [==============================] - 5s 252ms/step - loss: 0.0176 - accuracy: 0.9984 - val_loss: 1.6352 - val_accuracy: 0.5625\n",
            "Epoch 82/100\n",
            "20/20 [==============================] - 3s 168ms/step - loss: 0.0175 - accuracy: 0.9984 - val_loss: 1.4968 - val_accuracy: 0.5562\n",
            "Epoch 83/100\n",
            "20/20 [==============================] - 3s 164ms/step - loss: 0.0229 - accuracy: 0.9969 - val_loss: 1.5581 - val_accuracy: 0.5375\n",
            "Epoch 84/100\n",
            "20/20 [==============================] - 3s 164ms/step - loss: 0.0244 - accuracy: 0.9969 - val_loss: 1.6610 - val_accuracy: 0.5250\n",
            "Epoch 85/100\n",
            "20/20 [==============================] - 5s 245ms/step - loss: 0.0257 - accuracy: 0.9937 - val_loss: 1.5742 - val_accuracy: 0.5188\n",
            "Epoch 86/100\n",
            "20/20 [==============================] - 3s 167ms/step - loss: 0.0345 - accuracy: 0.9937 - val_loss: 2.0343 - val_accuracy: 0.4000\n",
            "Epoch 87/100\n",
            "20/20 [==============================] - 3s 168ms/step - loss: 0.0385 - accuracy: 0.9953 - val_loss: 2.0684 - val_accuracy: 0.3938\n",
            "Epoch 88/100\n",
            "20/20 [==============================] - 4s 188ms/step - loss: 0.0361 - accuracy: 0.9953 - val_loss: 1.9081 - val_accuracy: 0.5063\n",
            "Epoch 89/100\n",
            "20/20 [==============================] - 5s 226ms/step - loss: 0.0284 - accuracy: 0.9969 - val_loss: 1.8664 - val_accuracy: 0.5312\n",
            "Epoch 90/100\n",
            "20/20 [==============================] - 3s 163ms/step - loss: 0.0355 - accuracy: 0.9969 - val_loss: 1.6719 - val_accuracy: 0.5250\n",
            "Epoch 91/100\n",
            "20/20 [==============================] - 3s 164ms/step - loss: 0.0290 - accuracy: 0.9969 - val_loss: 1.7374 - val_accuracy: 0.5063\n",
            "Epoch 92/100\n",
            "20/20 [==============================] - 4s 208ms/step - loss: 0.0363 - accuracy: 0.9891 - val_loss: 2.1697 - val_accuracy: 0.4375\n",
            "Epoch 93/100\n",
            "20/20 [==============================] - 4s 201ms/step - loss: 0.0321 - accuracy: 0.9953 - val_loss: 1.8029 - val_accuracy: 0.5000\n",
            "Epoch 94/100\n",
            "20/20 [==============================] - 3s 165ms/step - loss: 0.0300 - accuracy: 0.9984 - val_loss: 2.0206 - val_accuracy: 0.4500\n",
            "Epoch 95/100\n",
            "20/20 [==============================] - 3s 164ms/step - loss: 0.0324 - accuracy: 0.9953 - val_loss: 1.7536 - val_accuracy: 0.5000\n",
            "Epoch 96/100\n",
            "20/20 [==============================] - 5s 237ms/step - loss: 0.0210 - accuracy: 0.9969 - val_loss: 1.7977 - val_accuracy: 0.4500\n",
            "Epoch 97/100\n",
            "20/20 [==============================] - 4s 176ms/step - loss: 0.0216 - accuracy: 0.9969 - val_loss: 1.7832 - val_accuracy: 0.5063\n",
            "Epoch 98/100\n",
            "20/20 [==============================] - 3s 163ms/step - loss: 0.0204 - accuracy: 0.9969 - val_loss: 1.6991 - val_accuracy: 0.5250\n",
            "Epoch 99/100\n",
            "20/20 [==============================] - 3s 167ms/step - loss: 0.0256 - accuracy: 0.9937 - val_loss: 2.1107 - val_accuracy: 0.4375\n",
            "Epoch 100/100\n",
            "20/20 [==============================] - 5s 252ms/step - loss: 0.0190 - accuracy: 1.0000 - val_loss: 1.8794 - val_accuracy: 0.4938\n"
          ]
        }
      ]
    },
    {
      "cell_type": "code",
      "source": [
        "model.save(\"my second neural network\")"
      ],
      "metadata": {
        "id": "uBO_RTmYUsP1"
      },
      "execution_count": null,
      "outputs": []
    },
    {
      "cell_type": "code",
      "source": [
        "test_error, test_accuracy = model.evaluate(X_test, y_test, verbose=1)\n",
        "print(f\"Test accuracy: {test_accuracy}\")"
      ],
      "metadata": {
        "id": "L03NdTwN8JZX",
        "colab": {
          "base_uri": "https://localhost:8080/"
        },
        "outputId": "d7e851f7-2196-4db3-89e6-4feb44e61753"
      },
      "execution_count": null,
      "outputs": [
        {
          "output_type": "stream",
          "name": "stdout",
          "text": [
            "5/5 [==============================] - 0s 7ms/step - loss: 767.1747 - accuracy: 0.4563\n",
            "Test accuracy: 0.45625001192092896\n"
          ]
        }
      ]
    },
    {
      "cell_type": "code",
      "source": [
        "tf.keras.models.load_model('my second neural network')\n",
        "X2 = tf.convert_to_tensor(X2, dtype=tf.float32)\n",
        "predictions = model.predict(X2)"
      ],
      "metadata": {
        "colab": {
          "base_uri": "https://localhost:8080/",
          "height": 339
        },
        "id": "6U0kimQ_U5aw",
        "outputId": "e753cbbe-6691-45ea-c963-c28a0ad23095"
      },
      "execution_count": null,
      "outputs": [
        {
          "output_type": "error",
          "ename": "OSError",
          "evalue": "No file or directory found at my second neural network",
          "traceback": [
            "\u001b[0;31m---------------------------------------------------------------------------\u001b[0m",
            "\u001b[0;31mOSError\u001b[0m                                   Traceback (most recent call last)",
            "\u001b[0;32m<ipython-input-3-faafce831373>\u001b[0m in \u001b[0;36m<cell line: 1>\u001b[0;34m()\u001b[0m\n\u001b[0;32m----> 1\u001b[0;31m \u001b[0mtf\u001b[0m\u001b[0;34m.\u001b[0m\u001b[0mkeras\u001b[0m\u001b[0;34m.\u001b[0m\u001b[0mmodels\u001b[0m\u001b[0;34m.\u001b[0m\u001b[0mload_model\u001b[0m\u001b[0;34m(\u001b[0m\u001b[0;34m'my second neural network'\u001b[0m\u001b[0;34m)\u001b[0m\u001b[0;34m\u001b[0m\u001b[0;34m\u001b[0m\u001b[0m\n\u001b[0m\u001b[1;32m      2\u001b[0m \u001b[0mX2\u001b[0m \u001b[0;34m=\u001b[0m \u001b[0mtf\u001b[0m\u001b[0;34m.\u001b[0m\u001b[0mconvert_to_tensor\u001b[0m\u001b[0;34m(\u001b[0m\u001b[0mX2\u001b[0m\u001b[0;34m,\u001b[0m \u001b[0mdtype\u001b[0m\u001b[0;34m=\u001b[0m\u001b[0mtf\u001b[0m\u001b[0;34m.\u001b[0m\u001b[0mfloat32\u001b[0m\u001b[0;34m)\u001b[0m\u001b[0;34m\u001b[0m\u001b[0;34m\u001b[0m\u001b[0m\n\u001b[1;32m      3\u001b[0m \u001b[0mpredictions\u001b[0m \u001b[0;34m=\u001b[0m \u001b[0mmodel\u001b[0m\u001b[0;34m.\u001b[0m\u001b[0mpredict\u001b[0m\u001b[0;34m(\u001b[0m\u001b[0mX2\u001b[0m\u001b[0;34m)\u001b[0m\u001b[0;34m\u001b[0m\u001b[0;34m\u001b[0m\u001b[0m\n",
            "\u001b[0;32m/usr/local/lib/python3.10/dist-packages/keras/src/saving/saving_api.py\u001b[0m in \u001b[0;36mload_model\u001b[0;34m(filepath, custom_objects, compile, safe_mode, **kwargs)\u001b[0m\n\u001b[1;32m    260\u001b[0m \u001b[0;34m\u001b[0m\u001b[0m\n\u001b[1;32m    261\u001b[0m     \u001b[0;31m# Legacy case.\u001b[0m\u001b[0;34m\u001b[0m\u001b[0;34m\u001b[0m\u001b[0m\n\u001b[0;32m--> 262\u001b[0;31m     return legacy_sm_saving_lib.load_model(\n\u001b[0m\u001b[1;32m    263\u001b[0m         \u001b[0mfilepath\u001b[0m\u001b[0;34m,\u001b[0m \u001b[0mcustom_objects\u001b[0m\u001b[0;34m=\u001b[0m\u001b[0mcustom_objects\u001b[0m\u001b[0;34m,\u001b[0m \u001b[0mcompile\u001b[0m\u001b[0;34m=\u001b[0m\u001b[0mcompile\u001b[0m\u001b[0;34m,\u001b[0m \u001b[0;34m**\u001b[0m\u001b[0mkwargs\u001b[0m\u001b[0;34m\u001b[0m\u001b[0;34m\u001b[0m\u001b[0m\n\u001b[1;32m    264\u001b[0m     )\n",
            "\u001b[0;32m/usr/local/lib/python3.10/dist-packages/keras/src/utils/traceback_utils.py\u001b[0m in \u001b[0;36merror_handler\u001b[0;34m(*args, **kwargs)\u001b[0m\n\u001b[1;32m     68\u001b[0m             \u001b[0;31m# To get the full stack trace, call:\u001b[0m\u001b[0;34m\u001b[0m\u001b[0;34m\u001b[0m\u001b[0m\n\u001b[1;32m     69\u001b[0m             \u001b[0;31m# `tf.debugging.disable_traceback_filtering()`\u001b[0m\u001b[0;34m\u001b[0m\u001b[0;34m\u001b[0m\u001b[0m\n\u001b[0;32m---> 70\u001b[0;31m             \u001b[0;32mraise\u001b[0m \u001b[0me\u001b[0m\u001b[0;34m.\u001b[0m\u001b[0mwith_traceback\u001b[0m\u001b[0;34m(\u001b[0m\u001b[0mfiltered_tb\u001b[0m\u001b[0;34m)\u001b[0m \u001b[0;32mfrom\u001b[0m \u001b[0;32mNone\u001b[0m\u001b[0;34m\u001b[0m\u001b[0;34m\u001b[0m\u001b[0m\n\u001b[0m\u001b[1;32m     71\u001b[0m         \u001b[0;32mfinally\u001b[0m\u001b[0;34m:\u001b[0m\u001b[0;34m\u001b[0m\u001b[0;34m\u001b[0m\u001b[0m\n\u001b[1;32m     72\u001b[0m             \u001b[0;32mdel\u001b[0m \u001b[0mfiltered_tb\u001b[0m\u001b[0;34m\u001b[0m\u001b[0;34m\u001b[0m\u001b[0m\n",
            "\u001b[0;32m/usr/local/lib/python3.10/dist-packages/keras/src/saving/legacy/save.py\u001b[0m in \u001b[0;36mload_model\u001b[0;34m(filepath, custom_objects, compile, options)\u001b[0m\n\u001b[1;32m    232\u001b[0m                     \u001b[0;32mif\u001b[0m \u001b[0misinstance\u001b[0m\u001b[0;34m(\u001b[0m\u001b[0mfilepath_str\u001b[0m\u001b[0;34m,\u001b[0m \u001b[0mstr\u001b[0m\u001b[0;34m)\u001b[0m\u001b[0;34m:\u001b[0m\u001b[0;34m\u001b[0m\u001b[0;34m\u001b[0m\u001b[0m\n\u001b[1;32m    233\u001b[0m                         \u001b[0;32mif\u001b[0m \u001b[0;32mnot\u001b[0m \u001b[0mtf\u001b[0m\u001b[0;34m.\u001b[0m\u001b[0mio\u001b[0m\u001b[0;34m.\u001b[0m\u001b[0mgfile\u001b[0m\u001b[0;34m.\u001b[0m\u001b[0mexists\u001b[0m\u001b[0;34m(\u001b[0m\u001b[0mfilepath_str\u001b[0m\u001b[0;34m)\u001b[0m\u001b[0;34m:\u001b[0m\u001b[0;34m\u001b[0m\u001b[0;34m\u001b[0m\u001b[0m\n\u001b[0;32m--> 234\u001b[0;31m                             raise IOError(\n\u001b[0m\u001b[1;32m    235\u001b[0m                                 \u001b[0;34mf\"No file or directory found at {filepath_str}\"\u001b[0m\u001b[0;34m\u001b[0m\u001b[0;34m\u001b[0m\u001b[0m\n\u001b[1;32m    236\u001b[0m                             )\n",
            "\u001b[0;31mOSError\u001b[0m: No file or directory found at my second neural network"
          ]
        }
      ]
    },
    {
      "cell_type": "code",
      "source": [
        "true_y = []\n",
        "for row in predictions:\n",
        "  true_y.append(num_to_str[np.argmax(row)])"
      ],
      "metadata": {
        "id": "6gbPZ6TyVWRo"
      },
      "execution_count": null,
      "outputs": []
    },
    {
      "cell_type": "markdown",
      "source": [
        "### Ensemble learning"
      ],
      "metadata": {
        "id": "HCuwJTJD9txm"
      }
    },
    {
      "cell_type": "code",
      "source": [
        "pip install catboost"
      ],
      "metadata": {
        "id": "Y_6ldxI59-Xh",
        "colab": {
          "base_uri": "https://localhost:8080/"
        },
        "outputId": "0dc79616-69ec-42ac-8c53-51bee3ad89e9"
      },
      "execution_count": null,
      "outputs": [
        {
          "output_type": "stream",
          "name": "stdout",
          "text": [
            "Collecting catboost\n",
            "  Downloading catboost-1.2.5-cp310-cp310-manylinux2014_x86_64.whl (98.2 MB)\n",
            "\u001b[2K     \u001b[90m━━━━━━━━━━━━━━━━━━━━━━━━━━━━━━━━━━━━━━━━\u001b[0m \u001b[32m98.2/98.2 MB\u001b[0m \u001b[31m2.6 MB/s\u001b[0m eta \u001b[36m0:00:00\u001b[0m\n",
            "\u001b[?25hRequirement already satisfied: graphviz in /usr/local/lib/python3.10/dist-packages (from catboost) (0.20.3)\n",
            "Requirement already satisfied: matplotlib in /usr/local/lib/python3.10/dist-packages (from catboost) (3.7.1)\n",
            "Requirement already satisfied: numpy>=1.16.0 in /usr/local/lib/python3.10/dist-packages (from catboost) (1.25.2)\n",
            "Requirement already satisfied: pandas>=0.24 in /usr/local/lib/python3.10/dist-packages (from catboost) (2.0.3)\n",
            "Requirement already satisfied: scipy in /usr/local/lib/python3.10/dist-packages (from catboost) (1.11.4)\n",
            "Requirement already satisfied: plotly in /usr/local/lib/python3.10/dist-packages (from catboost) (5.15.0)\n",
            "Requirement already satisfied: six in /usr/local/lib/python3.10/dist-packages (from catboost) (1.16.0)\n",
            "Requirement already satisfied: python-dateutil>=2.8.2 in /usr/local/lib/python3.10/dist-packages (from pandas>=0.24->catboost) (2.8.2)\n",
            "Requirement already satisfied: pytz>=2020.1 in /usr/local/lib/python3.10/dist-packages (from pandas>=0.24->catboost) (2023.4)\n",
            "Requirement already satisfied: tzdata>=2022.1 in /usr/local/lib/python3.10/dist-packages (from pandas>=0.24->catboost) (2024.1)\n",
            "Requirement already satisfied: contourpy>=1.0.1 in /usr/local/lib/python3.10/dist-packages (from matplotlib->catboost) (1.2.1)\n",
            "Requirement already satisfied: cycler>=0.10 in /usr/local/lib/python3.10/dist-packages (from matplotlib->catboost) (0.12.1)\n",
            "Requirement already satisfied: fonttools>=4.22.0 in /usr/local/lib/python3.10/dist-packages (from matplotlib->catboost) (4.51.0)\n",
            "Requirement already satisfied: kiwisolver>=1.0.1 in /usr/local/lib/python3.10/dist-packages (from matplotlib->catboost) (1.4.5)\n",
            "Requirement already satisfied: packaging>=20.0 in /usr/local/lib/python3.10/dist-packages (from matplotlib->catboost) (24.0)\n",
            "Requirement already satisfied: pillow>=6.2.0 in /usr/local/lib/python3.10/dist-packages (from matplotlib->catboost) (9.4.0)\n",
            "Requirement already satisfied: pyparsing>=2.3.1 in /usr/local/lib/python3.10/dist-packages (from matplotlib->catboost) (3.1.2)\n",
            "Requirement already satisfied: tenacity>=6.2.0 in /usr/local/lib/python3.10/dist-packages (from plotly->catboost) (8.2.3)\n",
            "Installing collected packages: catboost\n",
            "Successfully installed catboost-1.2.5\n"
          ]
        }
      ]
    },
    {
      "cell_type": "code",
      "source": [
        "from sklearn.metrics import accuracy_score\n",
        "from sklearn.neighbors import KNeighborsClassifier\n",
        "from sklearn.tree import DecisionTreeClassifier\n",
        "from sklearn.ensemble import RandomForestClassifier\n",
        "from sklearn.linear_model import LogisticRegression\n",
        "import catboost as cb\n",
        "from xgboost import XGBClassifier\n",
        "\n",
        "rf = RandomForestClassifier(n_estimators=1000, max_depth=10, random_state=0)\n",
        "cbc = cb.CatBoostClassifier(verbose=0, eval_metric='Accuracy', loss_function='MultiClass')\n",
        "xgb = XGBClassifier(n_estimators=1000, learning_rate=0.05)\n",
        "\n",
        "for clf in (rf, cbc, xgb):\n",
        "\tclf.fit(X_train, y_train)\n",
        "\tpreds = clf.predict(X_test)\n",
        "\tprint(clf.__class__.__name__,accuracy_score(y_test, preds))"
      ],
      "metadata": {
        "colab": {
          "base_uri": "https://localhost:8080/"
        },
        "id": "A6RI4y899wjB",
        "outputId": "058431dc-a9d3-4413-e549-d4e03a15ca45"
      },
      "execution_count": null,
      "outputs": [
        {
          "output_type": "stream",
          "name": "stdout",
          "text": [
            "RandomForestClassifier 0.76875\n",
            "CatBoostClassifier 0.79375\n",
            "XGBClassifier 0.775\n"
          ]
        }
      ]
    },
    {
      "cell_type": "code",
      "source": [
        "predictions = clf.predict(X2)"
      ],
      "metadata": {
        "id": "8phF5xcaYnfv"
      },
      "execution_count": null,
      "outputs": []
    },
    {
      "cell_type": "code",
      "source": [
        "true_y = []\n",
        "for num in predictions:\n",
        "  true_y.append(num_to_str[num])"
      ],
      "metadata": {
        "id": "oi7C8NYVYvCT"
      },
      "execution_count": null,
      "outputs": []
    },
    {
      "cell_type": "markdown",
      "source": [
        "### making the CSV :)"
      ],
      "metadata": {
        "id": "8RG4vnCpWKea"
      }
    },
    {
      "cell_type": "code",
      "source": [
        "data = [['ID', 'Genre']]\n",
        "for i in range(10):\n",
        "  data.append(['test00{}.wav'.format(i), true_y[i]])\n",
        "for i in range(10, 100):\n",
        "  data.append(['test0{}.wav'.format(i), true_y[i]])\n",
        "for i in range(100, 200):\n",
        "  data.append(['test{}.wav'.format(i), true_y[i]])\n",
        "\n",
        "  file_name = 'TF_nn_more_nodes.csv'\n",
        "\n",
        "with open(file_name, mode='w', newline='') as file:\n",
        "    writer = csv.writer(file)\n",
        "    writer.writerows(data)"
      ],
      "metadata": {
        "id": "oS8OGiaEWN7p"
      },
      "execution_count": null,
      "outputs": []
    },
    {
      "cell_type": "markdown",
      "source": [
        "### SVC"
      ],
      "metadata": {
        "id": "PxT8mxGCzenE"
      }
    },
    {
      "cell_type": "code",
      "source": [
        "from sklearn.pipeline import make_pipeline\n",
        "from sklearn.preprocessing import StandardScaler\n",
        "from sklearn.svm import SVC"
      ],
      "metadata": {
        "id": "0CmvvU22zhWf"
      },
      "execution_count": null,
      "outputs": []
    },
    {
      "cell_type": "code",
      "source": [
        "from sklearn.model_selection import train_test_split\n",
        "X_train, X_test, y_train, y_test = train_test_split(X1, y, test_size=.2)"
      ],
      "metadata": {
        "id": "sb9G165FCkj7"
      },
      "execution_count": null,
      "outputs": []
    },
    {
      "cell_type": "code",
      "source": [
        "#radial basis\n",
        "clf = make_pipeline(StandardScaler(), SVC(kernel='rbf', gamma='scale'))\n",
        "clf.fit(X_train, y_train)"
      ],
      "metadata": {
        "id": "k-3UMZCVzsBh",
        "colab": {
          "base_uri": "https://localhost:8080/",
          "height": 126
        },
        "outputId": "3bfd69c3-4aab-45ed-83e5-859f47b8db51"
      },
      "execution_count": null,
      "outputs": [
        {
          "output_type": "execute_result",
          "data": {
            "text/plain": [
              "Pipeline(steps=[('standardscaler', StandardScaler()), ('svc', SVC())])"
            ],
            "text/html": [
              "<style>#sk-container-id-7 {color: black;background-color: white;}#sk-container-id-7 pre{padding: 0;}#sk-container-id-7 div.sk-toggleable {background-color: white;}#sk-container-id-7 label.sk-toggleable__label {cursor: pointer;display: block;width: 100%;margin-bottom: 0;padding: 0.3em;box-sizing: border-box;text-align: center;}#sk-container-id-7 label.sk-toggleable__label-arrow:before {content: \"▸\";float: left;margin-right: 0.25em;color: #696969;}#sk-container-id-7 label.sk-toggleable__label-arrow:hover:before {color: black;}#sk-container-id-7 div.sk-estimator:hover label.sk-toggleable__label-arrow:before {color: black;}#sk-container-id-7 div.sk-toggleable__content {max-height: 0;max-width: 0;overflow: hidden;text-align: left;background-color: #f0f8ff;}#sk-container-id-7 div.sk-toggleable__content pre {margin: 0.2em;color: black;border-radius: 0.25em;background-color: #f0f8ff;}#sk-container-id-7 input.sk-toggleable__control:checked~div.sk-toggleable__content {max-height: 200px;max-width: 100%;overflow: auto;}#sk-container-id-7 input.sk-toggleable__control:checked~label.sk-toggleable__label-arrow:before {content: \"▾\";}#sk-container-id-7 div.sk-estimator input.sk-toggleable__control:checked~label.sk-toggleable__label {background-color: #d4ebff;}#sk-container-id-7 div.sk-label input.sk-toggleable__control:checked~label.sk-toggleable__label {background-color: #d4ebff;}#sk-container-id-7 input.sk-hidden--visually {border: 0;clip: rect(1px 1px 1px 1px);clip: rect(1px, 1px, 1px, 1px);height: 1px;margin: -1px;overflow: hidden;padding: 0;position: absolute;width: 1px;}#sk-container-id-7 div.sk-estimator {font-family: monospace;background-color: #f0f8ff;border: 1px dotted black;border-radius: 0.25em;box-sizing: border-box;margin-bottom: 0.5em;}#sk-container-id-7 div.sk-estimator:hover {background-color: #d4ebff;}#sk-container-id-7 div.sk-parallel-item::after {content: \"\";width: 100%;border-bottom: 1px solid gray;flex-grow: 1;}#sk-container-id-7 div.sk-label:hover label.sk-toggleable__label {background-color: #d4ebff;}#sk-container-id-7 div.sk-serial::before {content: \"\";position: absolute;border-left: 1px solid gray;box-sizing: border-box;top: 0;bottom: 0;left: 50%;z-index: 0;}#sk-container-id-7 div.sk-serial {display: flex;flex-direction: column;align-items: center;background-color: white;padding-right: 0.2em;padding-left: 0.2em;position: relative;}#sk-container-id-7 div.sk-item {position: relative;z-index: 1;}#sk-container-id-7 div.sk-parallel {display: flex;align-items: stretch;justify-content: center;background-color: white;position: relative;}#sk-container-id-7 div.sk-item::before, #sk-container-id-7 div.sk-parallel-item::before {content: \"\";position: absolute;border-left: 1px solid gray;box-sizing: border-box;top: 0;bottom: 0;left: 50%;z-index: -1;}#sk-container-id-7 div.sk-parallel-item {display: flex;flex-direction: column;z-index: 1;position: relative;background-color: white;}#sk-container-id-7 div.sk-parallel-item:first-child::after {align-self: flex-end;width: 50%;}#sk-container-id-7 div.sk-parallel-item:last-child::after {align-self: flex-start;width: 50%;}#sk-container-id-7 div.sk-parallel-item:only-child::after {width: 0;}#sk-container-id-7 div.sk-dashed-wrapped {border: 1px dashed gray;margin: 0 0.4em 0.5em 0.4em;box-sizing: border-box;padding-bottom: 0.4em;background-color: white;}#sk-container-id-7 div.sk-label label {font-family: monospace;font-weight: bold;display: inline-block;line-height: 1.2em;}#sk-container-id-7 div.sk-label-container {text-align: center;}#sk-container-id-7 div.sk-container {/* jupyter's `normalize.less` sets `[hidden] { display: none; }` but bootstrap.min.css set `[hidden] { display: none !important; }` so we also need the `!important` here to be able to override the default hidden behavior on the sphinx rendered scikit-learn.org. See: https://github.com/scikit-learn/scikit-learn/issues/21755 */display: inline-block !important;position: relative;}#sk-container-id-7 div.sk-text-repr-fallback {display: none;}</style><div id=\"sk-container-id-7\" class=\"sk-top-container\"><div class=\"sk-text-repr-fallback\"><pre>Pipeline(steps=[(&#x27;standardscaler&#x27;, StandardScaler()), (&#x27;svc&#x27;, SVC())])</pre><b>In a Jupyter environment, please rerun this cell to show the HTML representation or trust the notebook. <br />On GitHub, the HTML representation is unable to render, please try loading this page with nbviewer.org.</b></div><div class=\"sk-container\" hidden><div class=\"sk-item sk-dashed-wrapped\"><div class=\"sk-label-container\"><div class=\"sk-label sk-toggleable\"><input class=\"sk-toggleable__control sk-hidden--visually\" id=\"sk-estimator-id-19\" type=\"checkbox\" ><label for=\"sk-estimator-id-19\" class=\"sk-toggleable__label sk-toggleable__label-arrow\">Pipeline</label><div class=\"sk-toggleable__content\"><pre>Pipeline(steps=[(&#x27;standardscaler&#x27;, StandardScaler()), (&#x27;svc&#x27;, SVC())])</pre></div></div></div><div class=\"sk-serial\"><div class=\"sk-item\"><div class=\"sk-estimator sk-toggleable\"><input class=\"sk-toggleable__control sk-hidden--visually\" id=\"sk-estimator-id-20\" type=\"checkbox\" ><label for=\"sk-estimator-id-20\" class=\"sk-toggleable__label sk-toggleable__label-arrow\">StandardScaler</label><div class=\"sk-toggleable__content\"><pre>StandardScaler()</pre></div></div></div><div class=\"sk-item\"><div class=\"sk-estimator sk-toggleable\"><input class=\"sk-toggleable__control sk-hidden--visually\" id=\"sk-estimator-id-21\" type=\"checkbox\" ><label for=\"sk-estimator-id-21\" class=\"sk-toggleable__label sk-toggleable__label-arrow\">SVC</label><div class=\"sk-toggleable__content\"><pre>SVC()</pre></div></div></div></div></div></div></div>"
            ]
          },
          "metadata": {},
          "execution_count": 53
        }
      ]
    },
    {
      "cell_type": "code",
      "source": [
        "accuracy = 0\n",
        "train_accuracy = 0\n",
        "\n",
        "for i in range(len(y_test)):\n",
        "    if clf.predict([X_test[i]])[0] == y_test[i]:\n",
        "        accuracy += 1\n",
        "\n",
        "for i in range(len(y_train)):\n",
        "    if clf.predict([X_train[i]])[0] == y_train[i]:\n",
        "        train_accuracy += 1\n",
        "\n",
        "final_accuracy = accuracy/len(y_test)\n",
        "final_accuracy_train = train_accuracy/len(y_train)\n",
        "\n",
        "print('accuracy', final_accuracy)\n",
        "print('train accuracy', final_accuracy_train)"
      ],
      "metadata": {
        "colab": {
          "base_uri": "https://localhost:8080/"
        },
        "id": "T9DXjWHCCzsT",
        "outputId": "239c13f6-9558-48d0-f10c-8bac56c838e7"
      },
      "execution_count": null,
      "outputs": [
        {
          "output_type": "stream",
          "name": "stdout",
          "text": [
            "accuracy 0.70625\n",
            "train accuracy 0.884375\n"
          ]
        }
      ]
    },
    {
      "cell_type": "code",
      "source": [
        "#linear\n",
        "clf = make_pipeline(StandardScaler(), SVC(kernel='linear', gamma='scale'))\n",
        "clf.fit(X_train, y_train)"
      ],
      "metadata": {
        "colab": {
          "base_uri": "https://localhost:8080/",
          "height": 126
        },
        "id": "1p9gDq8aBJzA",
        "outputId": "62aef4ed-0ed4-436c-ff4c-47b0d7fcefbf"
      },
      "execution_count": null,
      "outputs": [
        {
          "output_type": "execute_result",
          "data": {
            "text/plain": [
              "Pipeline(steps=[('standardscaler', StandardScaler()),\n",
              "                ('svc', SVC(kernel='linear'))])"
            ],
            "text/html": [
              "<style>#sk-container-id-8 {color: black;background-color: white;}#sk-container-id-8 pre{padding: 0;}#sk-container-id-8 div.sk-toggleable {background-color: white;}#sk-container-id-8 label.sk-toggleable__label {cursor: pointer;display: block;width: 100%;margin-bottom: 0;padding: 0.3em;box-sizing: border-box;text-align: center;}#sk-container-id-8 label.sk-toggleable__label-arrow:before {content: \"▸\";float: left;margin-right: 0.25em;color: #696969;}#sk-container-id-8 label.sk-toggleable__label-arrow:hover:before {color: black;}#sk-container-id-8 div.sk-estimator:hover label.sk-toggleable__label-arrow:before {color: black;}#sk-container-id-8 div.sk-toggleable__content {max-height: 0;max-width: 0;overflow: hidden;text-align: left;background-color: #f0f8ff;}#sk-container-id-8 div.sk-toggleable__content pre {margin: 0.2em;color: black;border-radius: 0.25em;background-color: #f0f8ff;}#sk-container-id-8 input.sk-toggleable__control:checked~div.sk-toggleable__content {max-height: 200px;max-width: 100%;overflow: auto;}#sk-container-id-8 input.sk-toggleable__control:checked~label.sk-toggleable__label-arrow:before {content: \"▾\";}#sk-container-id-8 div.sk-estimator input.sk-toggleable__control:checked~label.sk-toggleable__label {background-color: #d4ebff;}#sk-container-id-8 div.sk-label input.sk-toggleable__control:checked~label.sk-toggleable__label {background-color: #d4ebff;}#sk-container-id-8 input.sk-hidden--visually {border: 0;clip: rect(1px 1px 1px 1px);clip: rect(1px, 1px, 1px, 1px);height: 1px;margin: -1px;overflow: hidden;padding: 0;position: absolute;width: 1px;}#sk-container-id-8 div.sk-estimator {font-family: monospace;background-color: #f0f8ff;border: 1px dotted black;border-radius: 0.25em;box-sizing: border-box;margin-bottom: 0.5em;}#sk-container-id-8 div.sk-estimator:hover {background-color: #d4ebff;}#sk-container-id-8 div.sk-parallel-item::after {content: \"\";width: 100%;border-bottom: 1px solid gray;flex-grow: 1;}#sk-container-id-8 div.sk-label:hover label.sk-toggleable__label {background-color: #d4ebff;}#sk-container-id-8 div.sk-serial::before {content: \"\";position: absolute;border-left: 1px solid gray;box-sizing: border-box;top: 0;bottom: 0;left: 50%;z-index: 0;}#sk-container-id-8 div.sk-serial {display: flex;flex-direction: column;align-items: center;background-color: white;padding-right: 0.2em;padding-left: 0.2em;position: relative;}#sk-container-id-8 div.sk-item {position: relative;z-index: 1;}#sk-container-id-8 div.sk-parallel {display: flex;align-items: stretch;justify-content: center;background-color: white;position: relative;}#sk-container-id-8 div.sk-item::before, #sk-container-id-8 div.sk-parallel-item::before {content: \"\";position: absolute;border-left: 1px solid gray;box-sizing: border-box;top: 0;bottom: 0;left: 50%;z-index: -1;}#sk-container-id-8 div.sk-parallel-item {display: flex;flex-direction: column;z-index: 1;position: relative;background-color: white;}#sk-container-id-8 div.sk-parallel-item:first-child::after {align-self: flex-end;width: 50%;}#sk-container-id-8 div.sk-parallel-item:last-child::after {align-self: flex-start;width: 50%;}#sk-container-id-8 div.sk-parallel-item:only-child::after {width: 0;}#sk-container-id-8 div.sk-dashed-wrapped {border: 1px dashed gray;margin: 0 0.4em 0.5em 0.4em;box-sizing: border-box;padding-bottom: 0.4em;background-color: white;}#sk-container-id-8 div.sk-label label {font-family: monospace;font-weight: bold;display: inline-block;line-height: 1.2em;}#sk-container-id-8 div.sk-label-container {text-align: center;}#sk-container-id-8 div.sk-container {/* jupyter's `normalize.less` sets `[hidden] { display: none; }` but bootstrap.min.css set `[hidden] { display: none !important; }` so we also need the `!important` here to be able to override the default hidden behavior on the sphinx rendered scikit-learn.org. See: https://github.com/scikit-learn/scikit-learn/issues/21755 */display: inline-block !important;position: relative;}#sk-container-id-8 div.sk-text-repr-fallback {display: none;}</style><div id=\"sk-container-id-8\" class=\"sk-top-container\"><div class=\"sk-text-repr-fallback\"><pre>Pipeline(steps=[(&#x27;standardscaler&#x27;, StandardScaler()),\n",
              "                (&#x27;svc&#x27;, SVC(kernel=&#x27;linear&#x27;))])</pre><b>In a Jupyter environment, please rerun this cell to show the HTML representation or trust the notebook. <br />On GitHub, the HTML representation is unable to render, please try loading this page with nbviewer.org.</b></div><div class=\"sk-container\" hidden><div class=\"sk-item sk-dashed-wrapped\"><div class=\"sk-label-container\"><div class=\"sk-label sk-toggleable\"><input class=\"sk-toggleable__control sk-hidden--visually\" id=\"sk-estimator-id-22\" type=\"checkbox\" ><label for=\"sk-estimator-id-22\" class=\"sk-toggleable__label sk-toggleable__label-arrow\">Pipeline</label><div class=\"sk-toggleable__content\"><pre>Pipeline(steps=[(&#x27;standardscaler&#x27;, StandardScaler()),\n",
              "                (&#x27;svc&#x27;, SVC(kernel=&#x27;linear&#x27;))])</pre></div></div></div><div class=\"sk-serial\"><div class=\"sk-item\"><div class=\"sk-estimator sk-toggleable\"><input class=\"sk-toggleable__control sk-hidden--visually\" id=\"sk-estimator-id-23\" type=\"checkbox\" ><label for=\"sk-estimator-id-23\" class=\"sk-toggleable__label sk-toggleable__label-arrow\">StandardScaler</label><div class=\"sk-toggleable__content\"><pre>StandardScaler()</pre></div></div></div><div class=\"sk-item\"><div class=\"sk-estimator sk-toggleable\"><input class=\"sk-toggleable__control sk-hidden--visually\" id=\"sk-estimator-id-24\" type=\"checkbox\" ><label for=\"sk-estimator-id-24\" class=\"sk-toggleable__label sk-toggleable__label-arrow\">SVC</label><div class=\"sk-toggleable__content\"><pre>SVC(kernel=&#x27;linear&#x27;)</pre></div></div></div></div></div></div></div>"
            ]
          },
          "metadata": {},
          "execution_count": 55
        }
      ]
    },
    {
      "cell_type": "code",
      "source": [
        "accuracy = 0\n",
        "train_accuracy = 0\n",
        "\n",
        "for i in range(len(y_test)):\n",
        "    if clf.predict([X_test[i]])[0] == y_test[i]:\n",
        "        accuracy += 1\n",
        "\n",
        "for i in range(len(y_train)):\n",
        "    if clf.predict([X_train[i]])[0] == y_train[i]:\n",
        "        train_accuracy += 1\n",
        "\n",
        "final_accuracy = accuracy/len(y_test)\n",
        "final_accuracy_train = train_accuracy/len(y_train)\n",
        "\n",
        "print('accuracy', final_accuracy)\n",
        "print('train accuracy', final_accuracy_train)"
      ],
      "metadata": {
        "colab": {
          "base_uri": "https://localhost:8080/"
        },
        "id": "NvELwbguDafV",
        "outputId": "b348f422-b1c3-425b-d7be-6f489e9a0064"
      },
      "execution_count": null,
      "outputs": [
        {
          "output_type": "stream",
          "name": "stdout",
          "text": [
            "accuracy 0.69375\n",
            "train accuracy 0.9890625\n"
          ]
        }
      ]
    },
    {
      "cell_type": "code",
      "source": [
        "#poly\n",
        "clf = make_pipeline(StandardScaler(), SVC(kernel='poly', gamma='scale'))\n",
        "clf.fit(X_train, y_train)"
      ],
      "metadata": {
        "colab": {
          "base_uri": "https://localhost:8080/",
          "height": 126
        },
        "id": "B5Up5hg_BKmi",
        "outputId": "09533472-e0a5-48f5-8b11-a8d2f099d22e"
      },
      "execution_count": null,
      "outputs": [
        {
          "output_type": "execute_result",
          "data": {
            "text/plain": [
              "Pipeline(steps=[('standardscaler', StandardScaler()),\n",
              "                ('svc', SVC(kernel='poly'))])"
            ],
            "text/html": [
              "<style>#sk-container-id-9 {color: black;background-color: white;}#sk-container-id-9 pre{padding: 0;}#sk-container-id-9 div.sk-toggleable {background-color: white;}#sk-container-id-9 label.sk-toggleable__label {cursor: pointer;display: block;width: 100%;margin-bottom: 0;padding: 0.3em;box-sizing: border-box;text-align: center;}#sk-container-id-9 label.sk-toggleable__label-arrow:before {content: \"▸\";float: left;margin-right: 0.25em;color: #696969;}#sk-container-id-9 label.sk-toggleable__label-arrow:hover:before {color: black;}#sk-container-id-9 div.sk-estimator:hover label.sk-toggleable__label-arrow:before {color: black;}#sk-container-id-9 div.sk-toggleable__content {max-height: 0;max-width: 0;overflow: hidden;text-align: left;background-color: #f0f8ff;}#sk-container-id-9 div.sk-toggleable__content pre {margin: 0.2em;color: black;border-radius: 0.25em;background-color: #f0f8ff;}#sk-container-id-9 input.sk-toggleable__control:checked~div.sk-toggleable__content {max-height: 200px;max-width: 100%;overflow: auto;}#sk-container-id-9 input.sk-toggleable__control:checked~label.sk-toggleable__label-arrow:before {content: \"▾\";}#sk-container-id-9 div.sk-estimator input.sk-toggleable__control:checked~label.sk-toggleable__label {background-color: #d4ebff;}#sk-container-id-9 div.sk-label input.sk-toggleable__control:checked~label.sk-toggleable__label {background-color: #d4ebff;}#sk-container-id-9 input.sk-hidden--visually {border: 0;clip: rect(1px 1px 1px 1px);clip: rect(1px, 1px, 1px, 1px);height: 1px;margin: -1px;overflow: hidden;padding: 0;position: absolute;width: 1px;}#sk-container-id-9 div.sk-estimator {font-family: monospace;background-color: #f0f8ff;border: 1px dotted black;border-radius: 0.25em;box-sizing: border-box;margin-bottom: 0.5em;}#sk-container-id-9 div.sk-estimator:hover {background-color: #d4ebff;}#sk-container-id-9 div.sk-parallel-item::after {content: \"\";width: 100%;border-bottom: 1px solid gray;flex-grow: 1;}#sk-container-id-9 div.sk-label:hover label.sk-toggleable__label {background-color: #d4ebff;}#sk-container-id-9 div.sk-serial::before {content: \"\";position: absolute;border-left: 1px solid gray;box-sizing: border-box;top: 0;bottom: 0;left: 50%;z-index: 0;}#sk-container-id-9 div.sk-serial {display: flex;flex-direction: column;align-items: center;background-color: white;padding-right: 0.2em;padding-left: 0.2em;position: relative;}#sk-container-id-9 div.sk-item {position: relative;z-index: 1;}#sk-container-id-9 div.sk-parallel {display: flex;align-items: stretch;justify-content: center;background-color: white;position: relative;}#sk-container-id-9 div.sk-item::before, #sk-container-id-9 div.sk-parallel-item::before {content: \"\";position: absolute;border-left: 1px solid gray;box-sizing: border-box;top: 0;bottom: 0;left: 50%;z-index: -1;}#sk-container-id-9 div.sk-parallel-item {display: flex;flex-direction: column;z-index: 1;position: relative;background-color: white;}#sk-container-id-9 div.sk-parallel-item:first-child::after {align-self: flex-end;width: 50%;}#sk-container-id-9 div.sk-parallel-item:last-child::after {align-self: flex-start;width: 50%;}#sk-container-id-9 div.sk-parallel-item:only-child::after {width: 0;}#sk-container-id-9 div.sk-dashed-wrapped {border: 1px dashed gray;margin: 0 0.4em 0.5em 0.4em;box-sizing: border-box;padding-bottom: 0.4em;background-color: white;}#sk-container-id-9 div.sk-label label {font-family: monospace;font-weight: bold;display: inline-block;line-height: 1.2em;}#sk-container-id-9 div.sk-label-container {text-align: center;}#sk-container-id-9 div.sk-container {/* jupyter's `normalize.less` sets `[hidden] { display: none; }` but bootstrap.min.css set `[hidden] { display: none !important; }` so we also need the `!important` here to be able to override the default hidden behavior on the sphinx rendered scikit-learn.org. See: https://github.com/scikit-learn/scikit-learn/issues/21755 */display: inline-block !important;position: relative;}#sk-container-id-9 div.sk-text-repr-fallback {display: none;}</style><div id=\"sk-container-id-9\" class=\"sk-top-container\"><div class=\"sk-text-repr-fallback\"><pre>Pipeline(steps=[(&#x27;standardscaler&#x27;, StandardScaler()),\n",
              "                (&#x27;svc&#x27;, SVC(kernel=&#x27;poly&#x27;))])</pre><b>In a Jupyter environment, please rerun this cell to show the HTML representation or trust the notebook. <br />On GitHub, the HTML representation is unable to render, please try loading this page with nbviewer.org.</b></div><div class=\"sk-container\" hidden><div class=\"sk-item sk-dashed-wrapped\"><div class=\"sk-label-container\"><div class=\"sk-label sk-toggleable\"><input class=\"sk-toggleable__control sk-hidden--visually\" id=\"sk-estimator-id-25\" type=\"checkbox\" ><label for=\"sk-estimator-id-25\" class=\"sk-toggleable__label sk-toggleable__label-arrow\">Pipeline</label><div class=\"sk-toggleable__content\"><pre>Pipeline(steps=[(&#x27;standardscaler&#x27;, StandardScaler()),\n",
              "                (&#x27;svc&#x27;, SVC(kernel=&#x27;poly&#x27;))])</pre></div></div></div><div class=\"sk-serial\"><div class=\"sk-item\"><div class=\"sk-estimator sk-toggleable\"><input class=\"sk-toggleable__control sk-hidden--visually\" id=\"sk-estimator-id-26\" type=\"checkbox\" ><label for=\"sk-estimator-id-26\" class=\"sk-toggleable__label sk-toggleable__label-arrow\">StandardScaler</label><div class=\"sk-toggleable__content\"><pre>StandardScaler()</pre></div></div></div><div class=\"sk-item\"><div class=\"sk-estimator sk-toggleable\"><input class=\"sk-toggleable__control sk-hidden--visually\" id=\"sk-estimator-id-27\" type=\"checkbox\" ><label for=\"sk-estimator-id-27\" class=\"sk-toggleable__label sk-toggleable__label-arrow\">SVC</label><div class=\"sk-toggleable__content\"><pre>SVC(kernel=&#x27;poly&#x27;)</pre></div></div></div></div></div></div></div>"
            ]
          },
          "metadata": {},
          "execution_count": 58
        }
      ]
    },
    {
      "cell_type": "code",
      "source": [
        "accuracy = 0\n",
        "train_accuracy = 0\n",
        "\n",
        "for i in range(len(y_test)):\n",
        "    if clf.predict([X_test[i]])[0] == y_test[i]:\n",
        "        accuracy += 1\n",
        "\n",
        "for i in range(len(y_train)):\n",
        "    if clf.predict([X_train[i]])[0] == y_train[i]:\n",
        "        train_accuracy += 1\n",
        "\n",
        "final_accuracy = accuracy/len(y_test)\n",
        "final_accuracy_train = train_accuracy/len(y_train)\n",
        "\n",
        "print('accuracy', final_accuracy)\n",
        "print('train accuracy', final_accuracy_train)"
      ],
      "metadata": {
        "colab": {
          "base_uri": "https://localhost:8080/"
        },
        "id": "ovQSCAPGDbUw",
        "outputId": "51a0401a-9a67-42e9-bc03-1bca69a12410"
      },
      "execution_count": null,
      "outputs": [
        {
          "output_type": "stream",
          "name": "stdout",
          "text": [
            "accuracy 0.60625\n",
            "train accuracy 0.7484375\n"
          ]
        }
      ]
    },
    {
      "cell_type": "code",
      "source": [
        "#make graph of model accuracy\n",
        "import matplotlib.pyplot as plt\n",
        "\n",
        "labels = ['Gaussian_train','Gaussian_test', 'Linear_train','Linear_test', 'Polynomial_train', 'Polynomial_test']\n",
        "accuracies = [0.884375, 0.70625, 0.9890625, 0.69375, 0.7484375, 0.60625]\n",
        "\n",
        "bars = plt.bar(labels, accuracies)\n",
        "\n",
        "for i in range(len(bars)):\n",
        "    if i % 2 == 0:  # Check if the index is even\n",
        "        bars[i].set_color('skyblue')  # Set color for even-indexed bars\n",
        "    else:\n",
        "        bars[i].set_color('salmon')  # Set color for odd-indexed bars\n",
        "\n",
        "plt.xlabel('Kernals')\n",
        "plt.ylabel('Accuracy')\n",
        "plt.title('Kernel Comparisson')\n",
        "\n",
        "plt.xticks(rotation=45, ha='right')\n",
        "\n",
        "plt.tight_layout()\n",
        "plt.show()\n"
      ],
      "metadata": {
        "colab": {
          "base_uri": "https://localhost:8080/",
          "height": 487
        },
        "id": "sYIkYvpmGT2Q",
        "outputId": "17ee0d2b-8ac0-4ff0-e66c-5d14d7579d6d"
      },
      "execution_count": 1,
      "outputs": [
        {
          "output_type": "display_data",
          "data": {
            "text/plain": [
              "<Figure size 640x480 with 1 Axes>"
            ],
            "image/png": "[encoded data removed]"
          },
          "metadata": {}
        }
      ]
    }
  ]
}